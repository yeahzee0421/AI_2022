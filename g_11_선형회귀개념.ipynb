{
  "cells": [
    {
      "cell_type": "markdown",
      "metadata": {
        "id": "view-in-github",
        "colab_type": "text"
      },
      "source": [
        "<a href=\"https://colab.research.google.com/github/yeahzee0421/AI/blob/main/g_11_%E1%84%89%E1%85%A5%E1%86%AB%E1%84%92%E1%85%A7%E1%86%BC%E1%84%92%E1%85%AC%E1%84%80%E1%85%B1%EA%B0%9C%EB%85%90.ipynb\" target=\"_parent\"><img src=\"https://colab.research.google.com/assets/colab-badge.svg\" alt=\"Open In Colab\"/></a>"
      ]
    },
    {
      "cell_type": "markdown",
      "metadata": {
        "id": "Dji53O40dPED"
      },
      "source": [
        "선형회귀\n",
        "==\n",
        "- 선형회귀 함수사용\n",
        "- 경사하강법 동작 이해"
      ]
    },
    {
      "cell_type": "markdown",
      "metadata": {
        "id": "eT71GBzTd_kG"
      },
      "source": [
        "## 선형회귀 함수 사용법"
      ]
    },
    {
      "cell_type": "code",
      "execution_count": 7,
      "metadata": {
        "colab": {
          "base_uri": "https://localhost:8080/",
          "height": 283
        },
        "id": "OhhpOOGhdPEG",
        "outputId": "78b9c75c-8364-4bec-9422-f2ad7124e907"
      },
      "outputs": [
        {
          "output_type": "execute_result",
          "data": {
            "text/plain": [
              "<matplotlib.collections.PathCollection at 0x7f4d85ca2f90>"
            ]
          },
          "metadata": {},
          "execution_count": 7
        },
        {
          "output_type": "display_data",
          "data": {
            "text/plain": [
              "<Figure size 432x288 with 1 Axes>"
            ],
            "image/png": "[encoded data removed]"
          },
          "metadata": {
            "image/png": {
              "width": 370,
              "height": 248
            },
            "needs_background": "light"
          }
        }
      ],
      "source": [
        "import numpy as np\n",
        "import pandas as pd\n",
        "import matplotlib.pyplot as plt\n",
        "%matplotlib inline\n",
        "%config InlineBackend.figure_format = 'retina'\n",
        "\n",
        "n_samples = 200\n",
        "x = np.random.randn(n_samples) # x 생성 \n",
        "# np.random.randn : 정규분포 갖는 랜덤 넘버 생성 \n",
        "# 계수 및 절편\n",
        "w = 2\n",
        "b = 3\n",
        "# 노이지 추가 : 1.0* np.random.randn(n_samples)\n",
        "y = w*x + b + 1.0* np.random.randn(n_samples) # 실제 y 값 생성\n",
        "plt.scatter(x,y, s=10)"
      ]
    },
    {
      "cell_type": "markdown",
      "source": [
        "위 그래프, 즉 주어진 x와 y의 값에서 가장 잘 fitting 되는 직선의 기울이와 절편이 2와 3인지 확인해보자! "
      ],
      "metadata": {
        "id": "TN5VA7i2VBrT"
      }
    },
    {
      "cell_type": "code",
      "execution_count": 8,
      "metadata": {
        "colab": {
          "base_uri": "https://localhost:8080/"
        },
        "id": "-_G1Qr6TdPEM",
        "outputId": "fc02aa26-3996-4d45-b866-13635614c250"
      },
      "outputs": [
        {
          "output_type": "execute_result",
          "data": {
            "text/plain": [
              "array([[1.        , 0.90909724],\n",
              "       [0.90909724, 1.        ]])"
            ]
          },
          "metadata": {},
          "execution_count": 8
        }
      ],
      "source": [
        "np.corrcoef(x,y) ##pearson 상관계수 계산 "
      ]
    },
    {
      "cell_type": "code",
      "source": [
        "#fitting을 하려면 적어도 2차원 array로 만들어줘야하기 때문에. \n",
        "x[:5].reshape(-1,1)"
      ],
      "metadata": {
        "colab": {
          "base_uri": "https://localhost:8080/"
        },
        "id": "iTdCMFh4VaOX",
        "outputId": "d0325aa1-dacb-4d71-9730-139e9edf0048"
      },
      "execution_count": 16,
      "outputs": [
        {
          "output_type": "execute_result",
          "data": {
            "text/plain": [
              "array([[1.23826818],\n",
              "       [1.71622224],\n",
              "       [0.231745  ],\n",
              "       [0.32116874],\n",
              "       [0.29893016]])"
            ]
          },
          "metadata": {},
          "execution_count": 16
        }
      ]
    },
    {
      "cell_type": "code",
      "execution_count": 17,
      "metadata": {
        "colab": {
          "base_uri": "https://localhost:8080/"
        },
        "id": "jNa4akPSdPEQ",
        "outputId": "b764e081-b2df-4ad5-a07d-d2191b2eb538"
      },
      "outputs": [
        {
          "output_type": "stream",
          "name": "stdout",
          "text": [
            "[2.09790134]\n",
            "3.0049479690943075\n"
          ]
        }
      ],
      "source": [
        "from sklearn.linear_model import LinearRegression\n",
        "leg = LinearRegression() # (1) 모델 생성\n",
        "leg.fit(x.reshape(-1,1), y) # (2) 학습\n",
        "\n",
        "print(leg.coef_) # w\n",
        "print(leg.intercept_) # b"
      ]
    },
    {
      "cell_type": "markdown",
      "metadata": {
        "id": "KcCTA465e70_"
      },
      "source": [
        "## 모델을 예측에 사용하기"
      ]
    },
    {
      "cell_type": "code",
      "execution_count": 18,
      "metadata": {
        "colab": {
          "base_uri": "https://localhost:8080/"
        },
        "id": "WWkkUZaWeuik",
        "outputId": "9e00d615-54a1-4edb-bebf-e3c03e24663d"
      },
      "outputs": [
        {
          "output_type": "execute_result",
          "data": {
            "text/plain": [
              "array([ 5.10284931, 13.49445467, 23.98396137])"
            ]
          },
          "metadata": {},
          "execution_count": 18
        }
      ],
      "source": [
        "leg.predict([[1],[5],[10]]) # (3) 모델 사용(회귀, 분류) inference"
      ]
    },
    {
      "cell_type": "markdown",
      "metadata": {
        "id": "rz97pUnieFG1"
      },
      "source": [
        "## 경사하강법 구현"
      ]
    },
    {
      "cell_type": "markdown",
      "metadata": {
        "id": "hRjW17p9d7tF"
      },
      "source": [
        "변수가 1개인 경우\n",
        "--"
      ]
    },
    {
      "cell_type": "code",
      "execution_count": 21,
      "metadata": {
        "colab": {
          "base_uri": "https://localhost:8080/"
        },
        "id": "o5UNgpdNd7tV",
        "outputId": "138c08a3-a0ff-4480-802d-9ef90dc47e3b",
        "scrolled": false
      },
      "outputs": [
        {
          "output_type": "stream",
          "name": "stdout",
          "text": [
            "0.3937417401236475 0.0007322492537185088\n",
            " 0 w = 0.393742, b = 0.000732 , error = 3.070811\n",
            " 1 w = 1.925279, b = 2.914853 , error = 0.795655\n",
            " 2 w = 2.091741, b = 2.995822 , error = 0.774981\n",
            " 3 w = 2.097369, b = 3.004622 , error = 0.774929\n",
            " 4 w = 2.097880, b = 3.004920 , error = 0.774919\n",
            " 5 w = 2.097900, b = 3.004947 , error = 0.774919\n",
            " 6 w = 2.097901, b = 3.004948 , error = 0.774919\n",
            " 7 w = 2.097901, b = 3.004948 , error = 0.774919\n",
            " 8 w = 2.097901, b = 3.004948 , error = 0.774919\n",
            " 9 w = 2.097901, b = 3.004948 , error = 0.774919\n"
          ]
        }
      ],
      "source": [
        "num_epoch = 10\n",
        "lr = 1.0 #얘를 작게 줄 수록 학습을 느리게 함. 따라서 적당한 값을 주어야한다. \n",
        "\n",
        "w = np.random.uniform()\n",
        "b = np.random.uniform()\n",
        "print(w,b)\n",
        "\n",
        "for epoch in range(num_epoch): # 경사하강법 구현\n",
        "    y_pred = w*x + b\n",
        "    error = np.abs(y_pred - y).mean()\n",
        "    print(f\"{epoch:2} w = {w:.6f}, b = {b:.6f} , error = {error:.6f}\")\n",
        "    #GD algorithm : {epoch:2} w = {w:.6f}, b = {b:.6f} , error = {error:.6f}\n",
        "\n",
        "    w = w - lr*((y_pred - y)* x).mean() \n",
        "    b = b - lr*((y_pred - y)).mean()"
      ]
    },
    {
      "cell_type": "markdown",
      "metadata": {
        "id": "eu6hl1RrdPET"
      },
      "source": [
        "변수가 2개인 경우\n",
        "--"
      ]
    },
    {
      "cell_type": "code",
      "execution_count": 23,
      "metadata": {
        "colab": {
          "base_uri": "https://localhost:8080/"
        },
        "id": "uMvk79oHdPEU",
        "outputId": "963f6dab-b26e-4e9c-e196-34c7fa2e4fcd"
      },
      "outputs": [
        {
          "output_type": "stream",
          "name": "stdout",
          "text": [
            "[1.95430107 3.09085349]\n",
            "3.9962617655506962\n"
          ]
        }
      ],
      "source": [
        "n_samples = 200\n",
        "x1 = np.random.randn(n_samples)\n",
        "x2 = np.random.randn(n_samples)\n",
        "\n",
        "y = 2 * x1 + 3 * x2 + 4  + 1.0*np.random.randn(n_samples)\n",
        "\n",
        "leg = LinearRegression()\n",
        "X = pd.DataFrame({'x1':x1, 'x2':x2})\n",
        "leg.fit(X, y)\n",
        "\n",
        "print(leg.coef_)\n",
        "print(leg.intercept_)"
      ]
    },
    {
      "cell_type": "code",
      "execution_count": 24,
      "metadata": {
        "colab": {
          "base_uri": "https://localhost:8080/"
        },
        "id": "s32v7aQudPEY",
        "outputId": "125632a7-d469-4888-8748-c98cf0144ac7"
      },
      "outputs": [
        {
          "output_type": "execute_result",
          "data": {
            "text/plain": [
              "0.9244942589718869"
            ]
          },
          "metadata": {},
          "execution_count": 24
        }
      ],
      "source": [
        "leg.score(X,y) # R square"
      ]
    },
    {
      "cell_type": "markdown",
      "metadata": {
        "id": "ALIlKV_jdPEc"
      },
      "source": [
        "경사하강법\n",
        "--"
      ]
    },
    {
      "cell_type": "code",
      "execution_count": 32,
      "metadata": {
        "colab": {
          "base_uri": "https://localhost:8080/"
        },
        "id": "o-aYcmQOdPEd",
        "outputId": "cce2a556-d8e5-490d-aac4-8aa0fe0b7dd2",
        "scrolled": false
      },
      "outputs": [
        {
          "output_type": "stream",
          "name": "stdout",
          "text": [
            " 0 w1 = 0.827986,  w2 = 0.709369, b = 0.638868 , error = 3.510346\n",
            " 1 w1 = 1.866868,  w2 = 4.351118, b = 5.250444 , error = 1.673328\n",
            " 2 w1 = 2.221493,  w2 = 2.261465, b = 3.551080 , error = 1.171533\n",
            " 3 w1 = 1.724446,  w2 = 3.719214, b = 4.112247 , error = 1.034791\n",
            " 4 w1 = 2.124781,  w2 = 2.578493, b = 4.017320 , error = 0.943408\n",
            " 5 w1 = 1.828810,  w2 = 3.523720, b = 3.920216 , error = 0.925261\n",
            " 6 w1 = 2.049800,  w2 = 2.718786, b = 4.090796 , error = 0.887711\n",
            " 7 w1 = 1.878628,  w2 = 3.413465, b = 3.899647 , error = 0.883657\n",
            " 8 w1 = 2.016354,  w2 = 2.809831, b = 4.087803 , error = 0.861312\n",
            " 9 w1 = 1.902144,  w2 = 3.336266, b = 3.912589 , error = 0.859623\n",
            "10 w1 = 1.998862,  w2 = 2.876236, b = 4.071325 , error = 0.845009\n",
            "11 w1 = 1.915840,  w2 = 3.278691, b = 3.929607 , error = 0.846009\n",
            "12 w1 = 1.987702,  w2 = 2.926379, b = 4.055112 , error = 0.835694\n",
            "13 w1 = 1.925187,  w2 = 3.234909, b = 3.944471 , error = 0.837982\n",
            "14 w1 = 1.979733,  w2 = 2.964663, b = 4.041755 , error = 0.829658\n",
            "15 w1 = 1.932057,  w2 = 3.201405, b = 3.956344 , error = 0.832073\n",
            "16 w1 = 1.973771,  w2 = 2.993999, b = 4.031267 , error = 0.826063\n",
            "17 w1 = 1.937252,  w2 = 3.175711, b = 3.965576 , error = 0.827902\n",
            "18 w1 = 1.969234,  w2 = 3.016505, b = 4.023155 , error = 0.823678\n",
            "19 w1 = 1.941220,  w2 = 3.155994, b = 3.972695 , error = 0.824849\n",
            "20 w1 = 1.965761,  w2 = 3.033780, b = 4.016912 , error = 0.821956\n",
            "21 w1 = 1.944261,  w2 = 3.140860, b = 3.978167 , error = 0.822550\n",
            "22 w1 = 1.963097,  w2 = 3.047040, b = 4.012116 , error = 0.820635\n",
            "23 w1 = 1.946594,  w2 = 3.129242, b = 3.982370 , error = 0.820998\n",
            "24 w1 = 1.961054,  w2 = 3.057219, b = 4.008433 , error = 0.819946\n",
            "25 w1 = 1.948385,  w2 = 3.120323, b = 3.985598 , error = 0.820115\n",
            "26 w1 = 1.959485,  w2 = 3.065033, b = 4.005605 , error = 0.819660\n",
            "27 w1 = 1.949759,  w2 = 3.113476, b = 3.988075 , error = 0.819451\n",
            "28 w1 = 1.958280,  w2 = 3.071032, b = 4.003435 , error = 0.819474\n",
            "29 w1 = 1.950814,  w2 = 3.108221, b = 3.989977 , error = 0.819133\n",
            "30 w1 = 1.957356,  w2 = 3.075637, b = 4.001768 , error = 0.819331\n",
            "31 w1 = 1.951625,  w2 = 3.104186, b = 3.991437 , error = 0.818967\n",
            "32 w1 = 1.956646,  w2 = 3.079172, b = 4.000489 , error = 0.819222\n",
            "33 w1 = 1.952246,  w2 = 3.101088, b = 3.992558 , error = 0.818924\n",
            "34 w1 = 1.956101,  w2 = 3.081886, b = 3.999507 , error = 0.819138\n",
            "35 w1 = 1.952724,  w2 = 3.098710, b = 3.993419 , error = 0.818913\n",
            "36 w1 = 1.955683,  w2 = 3.083969, b = 3.998753 , error = 0.819073\n",
            "37 w1 = 1.953090,  w2 = 3.096885, b = 3.994079 , error = 0.818904\n",
            "38 w1 = 1.955362,  w2 = 3.085569, b = 3.998174 , error = 0.819039\n",
            "39 w1 = 1.953371,  w2 = 3.095484, b = 3.994586 , error = 0.818898\n"
          ]
        }
      ],
      "source": [
        "num_epoch = 40\n",
        "lr = 1.5\n",
        "\n",
        "w1 = np.random.uniform()\n",
        "w2 = np.random.uniform()\n",
        "b = np.random.uniform()\n",
        "\n",
        "for epoch in range(num_epoch):\n",
        "    y_pred = w1*x1 + w2*x2 + b\n",
        "    error = np.abs(y_pred - y).mean()\n",
        "    print(f\"{epoch:2} w1 = {w1:.6f},  w2 = {w2:.6f}, b = {b:.6f} , error = {error:.6f}\")\n",
        "\n",
        "    w1 = w1 - lr*((y_pred - y)* x1).mean()\n",
        "    w2 = w2 - lr*((y_pred - y)* x2).mean()\n",
        "    b = b - lr*((y_pred - y)).mean()"
      ]
    },
    {
      "cell_type": "code",
      "execution_count": null,
      "metadata": {
        "id": "SzI_9y8bdPEl"
      },
      "outputs": [],
      "source": []
    },
    {
      "cell_type": "code",
      "execution_count": null,
      "metadata": {
        "id": "x-3xzT1sdPEo"
      },
      "outputs": [],
      "source": []
    }
  ],
  "metadata": {
    "colab": {
      "collapsed_sections": [],
      "provenance": [],
      "include_colab_link": true
    },
    "kernelspec": {
      "display_name": "Python 3",
      "language": "python",
      "name": "python3"
    },
    "language_info": {
      "codemirror_mode": {
        "name": "ipython",
        "version": 3
      },
      "file_extension": ".py",
      "mimetype": "text/x-python",
      "name": "python",
      "nbconvert_exporter": "python",
      "pygments_lexer": "ipython3",
      "version": "3.7.6"
    }
  },
  "nbformat": 4,
  "nbformat_minor": 0
}