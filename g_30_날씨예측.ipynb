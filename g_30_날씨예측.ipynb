{
  "cells": [
    {
      "cell_type": "markdown",
      "metadata": {
        "id": "view-in-github",
        "colab_type": "text"
      },
      "source": [
        "<a href=\"https://colab.research.google.com/github/yeahzee0421/AI/blob/main/g_30_%E1%84%82%E1%85%A1%E1%86%AF%E1%84%8A%E1%85%B5%E1%84%8B%E1%85%A8%E1%84%8E%E1%85%B3%E1%86%A8.ipynb\" target=\"_parent\"><img src=\"https://colab.research.google.com/assets/colab-badge.svg\" alt=\"Open In Colab\"/></a>"
      ]
    },
    {
      "cell_type": "markdown",
      "metadata": {
        "id": "mgKnWaQi0Ygg"
      },
      "source": [
        "# 날씨 데이터 예측\n",
        "- 선형\n",
        "- 나이브\n",
        "- 프로핏\n"
      ]
    },
    {
      "cell_type": "code",
      "execution_count": 37,
      "metadata": {
        "id": "2uPsZz6Z0Ygi"
      },
      "outputs": [],
      "source": [
        "import pandas as pd\n",
        "import matplotlib.pyplot as plt\n",
        "from sklearn.linear_model import LinearRegression\n",
        "from sklearn.metrics import r2_score\n",
        "import numpy as np\n",
        "%config InlineBackend.figure_format = 'retina'"
      ]
    },
    {
      "cell_type": "markdown",
      "metadata": {
        "id": "V_huxApFZrvb"
      },
      "source": [
        "# 데이터\n",
        "- 날씨 데이터"
      ]
    },
    {
      "cell_type": "code",
      "execution_count": 38,
      "metadata": {
        "colab": {
          "base_uri": "https://localhost:8080/"
        },
        "id": "j78wbP3P0Ygp",
        "outputId": "5faba3f1-1e83-4353-be98-31e9c8d08249"
      },
      "outputs": [
        {
          "output_type": "execute_result",
          "data": {
            "text/plain": [
              "(4018, 4)"
            ]
          },
          "metadata": {},
          "execution_count": 38
        }
      ],
      "source": [
        "df = pd.read_csv('https://raw.githubusercontent.com/StillWork/data/master/new_weather.csv')\n",
        "df.shape"
      ]
    },
    {
      "cell_type": "code",
      "execution_count": 39,
      "metadata": {
        "id": "pLw3AOBhZrvc",
        "outputId": "3bed99a6-5cfd-41b0-be01-d58d683cdc56",
        "colab": {
          "base_uri": "https://localhost:8080/",
          "height": 423
        }
      },
      "outputs": [
        {
          "output_type": "execute_result",
          "data": {
            "text/plain": [
              "             연월일    기온  품질  균질\n",
              "0       2006/1/1   3.6   8   1\n",
              "1       2006/1/2   4.0   8   1\n",
              "2       2006/1/3   3.7   8   1\n",
              "3       2006/1/4   4.0   8   1\n",
              "4       2006/1/5   3.6   8   1\n",
              "...          ...   ...  ..  ..\n",
              "4013  2016/12/27  11.1   8   2\n",
              "4014  2016/12/28   6.0   8   2\n",
              "4015  2016/12/29   4.3   8   2\n",
              "4016  2016/12/30   6.0   8   2\n",
              "4017  2016/12/31   6.3   8   2\n",
              "\n",
              "[4018 rows x 4 columns]"
            ],
            "text/html": [
              "\n",
              "  <div id=\"df-cb165863-8d9a-4ece-9d7d-dc859f6e1bfe\">\n",
              "    <div class=\"colab-df-container\">\n",
              "      <div>\n",
              "<style scoped>\n",
              "    .dataframe tbody tr th:only-of-type {\n",
              "        vertical-align: middle;\n",
              "    }\n",
              "\n",
              "    .dataframe tbody tr th {\n",
              "        vertical-align: top;\n",
              "    }\n",
              "\n",
              "    .dataframe thead th {\n",
              "        text-align: right;\n",
              "    }\n",
              "</style>\n",
              "<table border=\"1\" class=\"dataframe\">\n",
              "  <thead>\n",
              "    <tr style=\"text-align: right;\">\n",
              "      <th></th>\n",
              "      <th>연월일</th>\n",
              "      <th>기온</th>\n",
              "      <th>품질</th>\n",
              "      <th>균질</th>\n",
              "    </tr>\n",
              "  </thead>\n",
              "  <tbody>\n",
              "    <tr>\n",
              "      <th>0</th>\n",
              "      <td>2006/1/1</td>\n",
              "      <td>3.6</td>\n",
              "      <td>8</td>\n",
              "      <td>1</td>\n",
              "    </tr>\n",
              "    <tr>\n",
              "      <th>1</th>\n",
              "      <td>2006/1/2</td>\n",
              "      <td>4.0</td>\n",
              "      <td>8</td>\n",
              "      <td>1</td>\n",
              "    </tr>\n",
              "    <tr>\n",
              "      <th>2</th>\n",
              "      <td>2006/1/3</td>\n",
              "      <td>3.7</td>\n",
              "      <td>8</td>\n",
              "      <td>1</td>\n",
              "    </tr>\n",
              "    <tr>\n",
              "      <th>3</th>\n",
              "      <td>2006/1/4</td>\n",
              "      <td>4.0</td>\n",
              "      <td>8</td>\n",
              "      <td>1</td>\n",
              "    </tr>\n",
              "    <tr>\n",
              "      <th>4</th>\n",
              "      <td>2006/1/5</td>\n",
              "      <td>3.6</td>\n",
              "      <td>8</td>\n",
              "      <td>1</td>\n",
              "    </tr>\n",
              "    <tr>\n",
              "      <th>...</th>\n",
              "      <td>...</td>\n",
              "      <td>...</td>\n",
              "      <td>...</td>\n",
              "      <td>...</td>\n",
              "    </tr>\n",
              "    <tr>\n",
              "      <th>4013</th>\n",
              "      <td>2016/12/27</td>\n",
              "      <td>11.1</td>\n",
              "      <td>8</td>\n",
              "      <td>2</td>\n",
              "    </tr>\n",
              "    <tr>\n",
              "      <th>4014</th>\n",
              "      <td>2016/12/28</td>\n",
              "      <td>6.0</td>\n",
              "      <td>8</td>\n",
              "      <td>2</td>\n",
              "    </tr>\n",
              "    <tr>\n",
              "      <th>4015</th>\n",
              "      <td>2016/12/29</td>\n",
              "      <td>4.3</td>\n",
              "      <td>8</td>\n",
              "      <td>2</td>\n",
              "    </tr>\n",
              "    <tr>\n",
              "      <th>4016</th>\n",
              "      <td>2016/12/30</td>\n",
              "      <td>6.0</td>\n",
              "      <td>8</td>\n",
              "      <td>2</td>\n",
              "    </tr>\n",
              "    <tr>\n",
              "      <th>4017</th>\n",
              "      <td>2016/12/31</td>\n",
              "      <td>6.3</td>\n",
              "      <td>8</td>\n",
              "      <td>2</td>\n",
              "    </tr>\n",
              "  </tbody>\n",
              "</table>\n",
              "<p>4018 rows × 4 columns</p>\n",
              "</div>\n",
              "      <button class=\"colab-df-convert\" onclick=\"convertToInteractive('df-cb165863-8d9a-4ece-9d7d-dc859f6e1bfe')\"\n",
              "              title=\"Convert this dataframe to an interactive table.\"\n",
              "              style=\"display:none;\">\n",
              "        \n",
              "  <svg xmlns=\"http://www.w3.org/2000/svg\" height=\"24px\"viewBox=\"0 0 24 24\"\n",
              "       width=\"24px\">\n",
              "    <path d=\"M0 0h24v24H0V0z\" fill=\"none\"/>\n",
              "    <path d=\"M18.56 5.44l.94 2.06.94-2.06 2.06-.94-2.06-.94-.94-2.06-.94 2.06-2.06.94zm-11 1L8.5 8.5l.94-2.06 2.06-.94-2.06-.94L8.5 2.5l-.94 2.06-2.06.94zm10 10l.94 2.06.94-2.06 2.06-.94-2.06-.94-.94-2.06-.94 2.06-2.06.94z\"/><path d=\"M17.41 7.96l-1.37-1.37c-.4-.4-.92-.59-1.43-.59-.52 0-1.04.2-1.43.59L10.3 9.45l-7.72 7.72c-.78.78-.78 2.05 0 2.83L4 21.41c.39.39.9.59 1.41.59.51 0 1.02-.2 1.41-.59l7.78-7.78 2.81-2.81c.8-.78.8-2.07 0-2.86zM5.41 20L4 18.59l7.72-7.72 1.47 1.35L5.41 20z\"/>\n",
              "  </svg>\n",
              "      </button>\n",
              "      \n",
              "  <style>\n",
              "    .colab-df-container {\n",
              "      display:flex;\n",
              "      flex-wrap:wrap;\n",
              "      gap: 12px;\n",
              "    }\n",
              "\n",
              "    .colab-df-convert {\n",
              "      background-color: #E8F0FE;\n",
              "      border: none;\n",
              "      border-radius: 50%;\n",
              "      cursor: pointer;\n",
              "      display: none;\n",
              "      fill: #1967D2;\n",
              "      height: 32px;\n",
              "      padding: 0 0 0 0;\n",
              "      width: 32px;\n",
              "    }\n",
              "\n",
              "    .colab-df-convert:hover {\n",
              "      background-color: #E2EBFA;\n",
              "      box-shadow: 0px 1px 2px rgba(60, 64, 67, 0.3), 0px 1px 3px 1px rgba(60, 64, 67, 0.15);\n",
              "      fill: #174EA6;\n",
              "    }\n",
              "\n",
              "    [theme=dark] .colab-df-convert {\n",
              "      background-color: #3B4455;\n",
              "      fill: #D2E3FC;\n",
              "    }\n",
              "\n",
              "    [theme=dark] .colab-df-convert:hover {\n",
              "      background-color: #434B5C;\n",
              "      box-shadow: 0px 1px 3px 1px rgba(0, 0, 0, 0.15);\n",
              "      filter: drop-shadow(0px 1px 2px rgba(0, 0, 0, 0.3));\n",
              "      fill: #FFFFFF;\n",
              "    }\n",
              "  </style>\n",
              "\n",
              "      <script>\n",
              "        const buttonEl =\n",
              "          document.querySelector('#df-cb165863-8d9a-4ece-9d7d-dc859f6e1bfe button.colab-df-convert');\n",
              "        buttonEl.style.display =\n",
              "          google.colab.kernel.accessAllowed ? 'block' : 'none';\n",
              "\n",
              "        async function convertToInteractive(key) {\n",
              "          const element = document.querySelector('#df-cb165863-8d9a-4ece-9d7d-dc859f6e1bfe');\n",
              "          const dataTable =\n",
              "            await google.colab.kernel.invokeFunction('convertToInteractive',\n",
              "                                                     [key], {});\n",
              "          if (!dataTable) return;\n",
              "\n",
              "          const docLinkHtml = 'Like what you see? Visit the ' +\n",
              "            '<a target=\"_blank\" href=https://colab.research.google.com/notebooks/data_table.ipynb>data table notebook</a>'\n",
              "            + ' to learn more about interactive tables.';\n",
              "          element.innerHTML = '';\n",
              "          dataTable['output_type'] = 'display_data';\n",
              "          await google.colab.output.renderOutput(dataTable, element);\n",
              "          const docLink = document.createElement('div');\n",
              "          docLink.innerHTML = docLinkHtml;\n",
              "          element.appendChild(docLink);\n",
              "        }\n",
              "      </script>\n",
              "    </div>\n",
              "  </div>\n",
              "  "
            ]
          },
          "metadata": {},
          "execution_count": 39
        }
      ],
      "source": [
        "df"
      ]
    },
    {
      "cell_type": "code",
      "execution_count": 40,
      "metadata": {
        "id": "y7g6kXrv0Yg6"
      },
      "outputs": [],
      "source": [
        "def split_seq(data, n_steps):\n",
        "    x, y = [], []\n",
        "    for i in range(len(data)):\n",
        "        if i > len(data) - (n_steps + 1) : break\n",
        "        x.append(data[i:i+n_steps])\n",
        "        y.append(data[i+n_steps])\n",
        "    return np.array(x), np.array(y)"
      ]
    },
    {
      "cell_type": "code",
      "execution_count": 41,
      "metadata": {
        "colab": {
          "base_uri": "https://localhost:8080/"
        },
        "id": "WaH1Lw7mvE7Y",
        "outputId": "b4a03f20-e93d-4d26-ce87-8ca4bf64964a"
      },
      "outputs": [
        {
          "output_type": "execute_result",
          "data": {
            "text/plain": [
              "[(array([1, 2, 3, 4, 5]), 6),\n",
              " (array([2, 3, 4, 5, 6]), 7),\n",
              " (array([3, 4, 5, 6, 7]), 8),\n",
              " (array([4, 5, 6, 7, 8]), 9),\n",
              " (array([5, 6, 7, 8, 9]), 10)]"
            ]
          },
          "metadata": {},
          "execution_count": 41
        }
      ],
      "source": [
        "data = [1,2,3,4,5,6,7,8,9,10]\n",
        "# data = [11,12,13,11,20,19,17,18,20,21]\n",
        "x_train, y_train = split_seq(data, 5)\n",
        "list(zip(x_train, y_train))"
      ]
    },
    {
      "cell_type": "code",
      "execution_count": 42,
      "metadata": {
        "id": "SoHRpsF7Zrvd",
        "outputId": "a68c57c6-5eee-4b14-e558-ae09e545e6bf",
        "colab": {
          "base_uri": "https://localhost:8080/",
          "height": 206
        }
      },
      "outputs": [
        {
          "output_type": "execute_result",
          "data": {
            "text/plain": [
              "   0  1  2  3  4   y\n",
              "0  1  2  3  4  5   6\n",
              "1  2  3  4  5  6   7\n",
              "2  3  4  5  6  7   8\n",
              "3  4  5  6  7  8   9\n",
              "4  5  6  7  8  9  10"
            ],
            "text/html": [
              "\n",
              "  <div id=\"df-6fcab5a6-2ca1-4f2a-b4b7-4818203ed12b\">\n",
              "    <div class=\"colab-df-container\">\n",
              "      <div>\n",
              "<style scoped>\n",
              "    .dataframe tbody tr th:only-of-type {\n",
              "        vertical-align: middle;\n",
              "    }\n",
              "\n",
              "    .dataframe tbody tr th {\n",
              "        vertical-align: top;\n",
              "    }\n",
              "\n",
              "    .dataframe thead th {\n",
              "        text-align: right;\n",
              "    }\n",
              "</style>\n",
              "<table border=\"1\" class=\"dataframe\">\n",
              "  <thead>\n",
              "    <tr style=\"text-align: right;\">\n",
              "      <th></th>\n",
              "      <th>0</th>\n",
              "      <th>1</th>\n",
              "      <th>2</th>\n",
              "      <th>3</th>\n",
              "      <th>4</th>\n",
              "      <th>y</th>\n",
              "    </tr>\n",
              "  </thead>\n",
              "  <tbody>\n",
              "    <tr>\n",
              "      <th>0</th>\n",
              "      <td>1</td>\n",
              "      <td>2</td>\n",
              "      <td>3</td>\n",
              "      <td>4</td>\n",
              "      <td>5</td>\n",
              "      <td>6</td>\n",
              "    </tr>\n",
              "    <tr>\n",
              "      <th>1</th>\n",
              "      <td>2</td>\n",
              "      <td>3</td>\n",
              "      <td>4</td>\n",
              "      <td>5</td>\n",
              "      <td>6</td>\n",
              "      <td>7</td>\n",
              "    </tr>\n",
              "    <tr>\n",
              "      <th>2</th>\n",
              "      <td>3</td>\n",
              "      <td>4</td>\n",
              "      <td>5</td>\n",
              "      <td>6</td>\n",
              "      <td>7</td>\n",
              "      <td>8</td>\n",
              "    </tr>\n",
              "    <tr>\n",
              "      <th>3</th>\n",
              "      <td>4</td>\n",
              "      <td>5</td>\n",
              "      <td>6</td>\n",
              "      <td>7</td>\n",
              "      <td>8</td>\n",
              "      <td>9</td>\n",
              "    </tr>\n",
              "    <tr>\n",
              "      <th>4</th>\n",
              "      <td>5</td>\n",
              "      <td>6</td>\n",
              "      <td>7</td>\n",
              "      <td>8</td>\n",
              "      <td>9</td>\n",
              "      <td>10</td>\n",
              "    </tr>\n",
              "  </tbody>\n",
              "</table>\n",
              "</div>\n",
              "      <button class=\"colab-df-convert\" onclick=\"convertToInteractive('df-6fcab5a6-2ca1-4f2a-b4b7-4818203ed12b')\"\n",
              "              title=\"Convert this dataframe to an interactive table.\"\n",
              "              style=\"display:none;\">\n",
              "        \n",
              "  <svg xmlns=\"http://www.w3.org/2000/svg\" height=\"24px\"viewBox=\"0 0 24 24\"\n",
              "       width=\"24px\">\n",
              "    <path d=\"M0 0h24v24H0V0z\" fill=\"none\"/>\n",
              "    <path d=\"M18.56 5.44l.94 2.06.94-2.06 2.06-.94-2.06-.94-.94-2.06-.94 2.06-2.06.94zm-11 1L8.5 8.5l.94-2.06 2.06-.94-2.06-.94L8.5 2.5l-.94 2.06-2.06.94zm10 10l.94 2.06.94-2.06 2.06-.94-2.06-.94-.94-2.06-.94 2.06-2.06.94z\"/><path d=\"M17.41 7.96l-1.37-1.37c-.4-.4-.92-.59-1.43-.59-.52 0-1.04.2-1.43.59L10.3 9.45l-7.72 7.72c-.78.78-.78 2.05 0 2.83L4 21.41c.39.39.9.59 1.41.59.51 0 1.02-.2 1.41-.59l7.78-7.78 2.81-2.81c.8-.78.8-2.07 0-2.86zM5.41 20L4 18.59l7.72-7.72 1.47 1.35L5.41 20z\"/>\n",
              "  </svg>\n",
              "      </button>\n",
              "      \n",
              "  <style>\n",
              "    .colab-df-container {\n",
              "      display:flex;\n",
              "      flex-wrap:wrap;\n",
              "      gap: 12px;\n",
              "    }\n",
              "\n",
              "    .colab-df-convert {\n",
              "      background-color: #E8F0FE;\n",
              "      border: none;\n",
              "      border-radius: 50%;\n",
              "      cursor: pointer;\n",
              "      display: none;\n",
              "      fill: #1967D2;\n",
              "      height: 32px;\n",
              "      padding: 0 0 0 0;\n",
              "      width: 32px;\n",
              "    }\n",
              "\n",
              "    .colab-df-convert:hover {\n",
              "      background-color: #E2EBFA;\n",
              "      box-shadow: 0px 1px 2px rgba(60, 64, 67, 0.3), 0px 1px 3px 1px rgba(60, 64, 67, 0.15);\n",
              "      fill: #174EA6;\n",
              "    }\n",
              "\n",
              "    [theme=dark] .colab-df-convert {\n",
              "      background-color: #3B4455;\n",
              "      fill: #D2E3FC;\n",
              "    }\n",
              "\n",
              "    [theme=dark] .colab-df-convert:hover {\n",
              "      background-color: #434B5C;\n",
              "      box-shadow: 0px 1px 3px 1px rgba(0, 0, 0, 0.15);\n",
              "      filter: drop-shadow(0px 1px 2px rgba(0, 0, 0, 0.3));\n",
              "      fill: #FFFFFF;\n",
              "    }\n",
              "  </style>\n",
              "\n",
              "      <script>\n",
              "        const buttonEl =\n",
              "          document.querySelector('#df-6fcab5a6-2ca1-4f2a-b4b7-4818203ed12b button.colab-df-convert');\n",
              "        buttonEl.style.display =\n",
              "          google.colab.kernel.accessAllowed ? 'block' : 'none';\n",
              "\n",
              "        async function convertToInteractive(key) {\n",
              "          const element = document.querySelector('#df-6fcab5a6-2ca1-4f2a-b4b7-4818203ed12b');\n",
              "          const dataTable =\n",
              "            await google.colab.kernel.invokeFunction('convertToInteractive',\n",
              "                                                     [key], {});\n",
              "          if (!dataTable) return;\n",
              "\n",
              "          const docLinkHtml = 'Like what you see? Visit the ' +\n",
              "            '<a target=\"_blank\" href=https://colab.research.google.com/notebooks/data_table.ipynb>data table notebook</a>'\n",
              "            + ' to learn more about interactive tables.';\n",
              "          element.innerHTML = '';\n",
              "          dataTable['output_type'] = 'display_data';\n",
              "          await google.colab.output.renderOutput(dataTable, element);\n",
              "          const docLink = document.createElement('div');\n",
              "          docLink.innerHTML = docLinkHtml;\n",
              "          element.appendChild(docLink);\n",
              "        }\n",
              "      </script>\n",
              "    </div>\n",
              "  </div>\n",
              "  "
            ]
          },
          "metadata": {},
          "execution_count": 42
        }
      ],
      "source": [
        "X = pd.DataFrame(x_train); X\n",
        "X['y'] = y_train ; X"
      ]
    },
    {
      "cell_type": "code",
      "execution_count": 43,
      "metadata": {
        "id": "DOYCiEhfZrvd",
        "outputId": "d9038aef-02ea-43ce-daa9-e0289449d5d6",
        "colab": {
          "base_uri": "https://localhost:8080/"
        }
      },
      "outputs": [
        {
          "output_type": "execute_result",
          "data": {
            "text/plain": [
              "pandas.core.series.Series"
            ]
          },
          "metadata": {},
          "execution_count": 43
        }
      ],
      "source": [
        "type(df[\"기온\"])"
      ]
    },
    {
      "cell_type": "code",
      "execution_count": 44,
      "metadata": {
        "id": "tEI2v_bdZrvd",
        "outputId": "d5dcec13-4145-4961-e287-a0bc67482d9a",
        "colab": {
          "base_uri": "https://localhost:8080/"
        }
      },
      "outputs": [
        {
          "output_type": "execute_result",
          "data": {
            "text/plain": [
              "array([3.6, 4. , 3.7, ..., 4.3, 6. , 6.3])"
            ]
          },
          "metadata": {},
          "execution_count": 44
        }
      ],
      "source": [
        "df.기온.values"
      ]
    },
    {
      "cell_type": "code",
      "execution_count": 45,
      "metadata": {
        "id": "VckhuVlzZrve",
        "outputId": "cfc3e08b-f4cd-46f5-fcb7-067ff7411ae3",
        "colab": {
          "base_uri": "https://localhost:8080/"
        }
      },
      "outputs": [
        {
          "output_type": "stream",
          "name": "stderr",
          "text": [
            "/usr/local/lib/python3.7/dist-packages/ipykernel_launcher.py:3: DeprecationWarning: `np.int` is a deprecated alias for the builtin `int`. To silence this warning, use `int` by itself. Doing this will not modify any behavior and is safe. When replacing `np.int`, you may wish to use e.g. `np.int64` or `np.int32` to specify the precision. If you wish to review your current use, check the release note link for additional information.\n",
            "Deprecated in NumPy 1.20; for more details and guidance: https://numpy.org/devdocs/release/1.20.0-notes.html#deprecations\n",
            "  This is separate from the ipykernel package so we can avoid doing imports until\n"
          ]
        },
        {
          "output_type": "execute_result",
          "data": {
            "text/plain": [
              "(4018, 3013, 3013, 1005)"
            ]
          },
          "metadata": {},
          "execution_count": 45
        }
      ],
      "source": [
        "y = df[\"기온\"].values # train_test_split 사용하면 안됨 !!\n",
        "ratio = 0.75\n",
        "cut = np.int(len(y)*ratio)\n",
        "train = y[:cut]\n",
        "test = y[cut:]\n",
        "len(y), cut, len(train), len(test)"
      ]
    },
    {
      "cell_type": "code",
      "execution_count": 46,
      "metadata": {
        "id": "lbPsLg52Zrve",
        "outputId": "4249a059-5707-48ac-8e59-57832c3985c9",
        "colab": {
          "base_uri": "https://localhost:8080/"
        }
      },
      "outputs": [
        {
          "output_type": "execute_result",
          "data": {
            "text/plain": [
              "array([3.6, 4. , 3.7, 4. , 3.6, 2.1, 2.8, 4.2, 3.7, 4.3])"
            ]
          },
          "metadata": {},
          "execution_count": 46
        }
      ],
      "source": [
        "train[:10]"
      ]
    },
    {
      "cell_type": "markdown",
      "metadata": {
        "id": "QWLZO50HZrvf"
      },
      "source": [
        "# 선형 예측"
      ]
    },
    {
      "cell_type": "code",
      "execution_count": 47,
      "metadata": {
        "id": "GlTyv8Ez0Yg7",
        "outputId": "2f64b3de-18e1-4ea6-e65c-d8de298ae6da",
        "colab": {
          "base_uri": "https://localhost:8080/"
        }
      },
      "outputs": [
        {
          "output_type": "stream",
          "name": "stdout",
          "text": [
            "1 0.9279\n",
            "11 0.9361\n",
            "21 0.9371\n",
            "31 0.9378\n",
            "41 0.9387\n",
            "51 0.9386\n",
            "61 0.9384\n",
            "71 0.9394\n",
            "81 0.9388\n",
            "91 0.9387\n",
            "101 0.9383\n",
            "111 0.9376\n",
            "121 0.9365\n",
            "131 0.9356\n",
            "141 0.9346\n",
            "151 0.934\n",
            "161 0.9339\n",
            "171 0.9328\n",
            "181 0.9325\n",
            "191 0.9333\n",
            "201 0.9347\n",
            "211 0.9348\n",
            "221 0.9357\n",
            "231 0.9359\n",
            "241 0.9362\n",
            "251 0.9359\n",
            "261 0.9341\n",
            "271 0.9324\n",
            "281 0.9318\n",
            "291 0.9302\n"
          ]
        }
      ],
      "source": [
        "lr = LinearRegression()\n",
        "for i in range(1,300,10): \n",
        "    n_steps=i\n",
        "    x_train, y_train = split_seq(train, n_steps)\n",
        "    x_test, y_test = split_seq(test, n_steps)\n",
        "    lr.fit(x_train, y_train) \n",
        "    print(n_steps, lr.score(x_test, y_test).round(4)) # R2 점수"
      ]
    },
    {
      "cell_type": "markdown",
      "metadata": {
        "id": "-sKiFMjkZrvg"
      },
      "source": [
        "## 최적값 선택"
      ]
    },
    {
      "cell_type": "code",
      "execution_count": 48,
      "metadata": {
        "colab": {
          "base_uri": "https://localhost:8080/",
          "height": 392
        },
        "id": "qdvfq8AW0Yg_",
        "outputId": "09323fa0-be35-4fcf-9836-b6b22b93e4c5"
      },
      "outputs": [
        {
          "output_type": "stream",
          "name": "stdout",
          "text": [
            "10 0.9359804760059094\n"
          ]
        },
        {
          "output_type": "display_data",
          "data": {
            "text/plain": [
              "<Figure size 720x432 with 1 Axes>"
            ],
            "image/png": "[encoded data removed]"
          },
          "metadata": {
            "image/png": {
              "width": 601,
              "height": 357
            },
            "needs_background": "light"
          }
        }
      ],
      "source": [
        "lr = LinearRegression()\n",
        "\n",
        "# 최적값 사용 n_steps = 10, 윈도우 크기\n",
        "\n",
        "n_steps = 10\n",
        "x_train, y_train =  split_seq(train, n_steps)\n",
        "x_test, y_test = split_seq(test, n_steps)\n",
        "lr.fit(x_train, y_train) \n",
        "y_pred = lr.predict(x_test)\n",
        "print(n_steps, lr.score(x_test, y_test)) # R2\n",
        "\n",
        "# 결과 그래프\n",
        "plt.figure(figsize=(10, 6))\n",
        "plt.plot(y_test[:200], c='r')\n",
        "plt.plot(y_pred[:200], c='b')\n",
        "plt.show()"
      ]
    },
    {
      "cell_type": "code",
      "execution_count": 49,
      "metadata": {
        "colab": {
          "base_uri": "https://localhost:8080/"
        },
        "id": "snIhFzzV0YhB",
        "outputId": "6af077fd-355e-47a0-95cb-5deadba11627",
        "scrolled": true
      },
      "outputs": [
        {
          "output_type": "stream",
          "name": "stdout",
          "text": [
            "MAE= 1.4978971246793522\n",
            "max= 8.613561682545193\n",
            "R2= 0.9359804760059094\n"
          ]
        }
      ],
      "source": [
        "error = np.abs(y_pred - y_test)\n",
        "print(\"MAE=\", error.mean())\n",
        "print(\"max=\", max(error))\n",
        "print(\"R2=\",lr.score(x_test, y_test)) # R2"
      ]
    },
    {
      "cell_type": "code",
      "execution_count": 50,
      "metadata": {
        "id": "hhy8cnYfZrvh",
        "outputId": "36af60fb-c893-46e1-a6bf-bb02c53567c5",
        "colab": {
          "base_uri": "https://localhost:8080/",
          "height": 283
        }
      },
      "outputs": [
        {
          "output_type": "execute_result",
          "data": {
            "text/plain": [
              "<matplotlib.collections.PathCollection at 0x7f01723fb390>"
            ]
          },
          "metadata": {},
          "execution_count": 50
        },
        {
          "output_type": "display_data",
          "data": {
            "text/plain": [
              "<Figure size 432x288 with 1 Axes>"
            ],
            "image/png": "[encoded data removed]"
          },
          "metadata": {
            "image/png": {
              "width": 362,
              "height": 248
            },
            "needs_background": "light"
          }
        }
      ],
      "source": [
        "plt.scatter(y_test, error, s=5)"
      ]
    },
    {
      "cell_type": "markdown",
      "metadata": {
        "id": "gBeCw2fOZrvh"
      },
      "source": [
        "# 나이브 모델"
      ]
    },
    {
      "cell_type": "code",
      "execution_count": 56,
      "metadata": {
        "id": "PSN5bNGXZrvh"
      },
      "outputs": [],
      "source": [
        "def naive_model(x_seq):\n",
        "    return np.array(x_seq).mean(axis=1)\n",
        "#     return x_seq[-1] # persistjent 모델"
      ]
    },
    {
      "cell_type": "code",
      "execution_count": 52,
      "metadata": {
        "id": "NnL94A84Zrvi",
        "outputId": "eb1c7e7c-8a71-470a-82ac-aa968264d739",
        "colab": {
          "base_uri": "https://localhost:8080/"
        }
      },
      "outputs": [
        {
          "output_type": "execute_result",
          "data": {
            "text/plain": [
              "[1, 2, 3, 4, 5, 6, 7, 8, 9, 10]"
            ]
          },
          "metadata": {},
          "execution_count": 52
        }
      ],
      "source": [
        "data"
      ]
    },
    {
      "cell_type": "code",
      "execution_count": 55,
      "metadata": {
        "id": "0G1L2myMZrvi",
        "outputId": "909734dd-cb4c-4451-b3c4-4a6c782e4eb4",
        "colab": {
          "base_uri": "https://localhost:8080/"
        }
      },
      "outputs": [
        {
          "output_type": "execute_result",
          "data": {
            "text/plain": [
              "5.5"
            ]
          },
          "metadata": {},
          "execution_count": 55
        }
      ],
      "source": [
        "naive_model(data)"
      ]
    },
    {
      "cell_type": "code",
      "execution_count": 57,
      "metadata": {
        "id": "6IKFbb2CZrvi",
        "outputId": "c1426b40-b1a5-4eca-befe-25caf597b9aa",
        "colab": {
          "base_uri": "https://localhost:8080/"
        }
      },
      "outputs": [
        {
          "output_type": "stream",
          "name": "stdout",
          "text": [
            "0.9266048196593487\n"
          ]
        }
      ],
      "source": [
        "x_test, y_test = split_seq(test, 1) # persistent 모델\n",
        "# 스텝수를 1로 한다 -> 전날 데이터 기반으로 예측 \n",
        "# m.fit(x_trai;n, y_train)\n",
        "y_pred = naive_model(x_test)\n",
        "print(r2_score(y_test, y_pred))"
      ]
    },
    {
      "cell_type": "code",
      "execution_count": 58,
      "metadata": {
        "id": "LoNYGgyvZrvi",
        "outputId": "6c01d4c0-4356-41b4-9bce-8651f2072016",
        "colab": {
          "base_uri": "https://localhost:8080/"
        }
      },
      "outputs": [
        {
          "output_type": "execute_result",
          "data": {
            "text/plain": [
              "array([[15.2],\n",
              "       [13.8],\n",
              "       [15.3],\n",
              "       ...,\n",
              "       [ 6. ],\n",
              "       [ 4.3],\n",
              "       [ 6. ]])"
            ]
          },
          "metadata": {},
          "execution_count": 58
        }
      ],
      "source": [
        "x_test"
      ]
    },
    {
      "cell_type": "code",
      "execution_count": 59,
      "metadata": {
        "id": "ysl-cpjdZrvi",
        "outputId": "6af195e7-a7ae-442b-fe34-80681f9c8d8b",
        "colab": {
          "base_uri": "https://localhost:8080/"
        }
      },
      "outputs": [
        {
          "output_type": "stream",
          "name": "stdout",
          "text": [
            "MAE= 1.5845617529880478\n",
            "max= 10.4\n"
          ]
        }
      ],
      "source": [
        "error = np.abs(y_pred  - y_test)\n",
        "print(\"MAE=\", error.mean())\n",
        "print(\"max=\", max(error))\n",
        "# print(\"R2=\",lr.score(x_test, y_test)) # R2"
      ]
    },
    {
      "cell_type": "markdown",
      "metadata": {
        "id": "BxyPHH-nZrvj"
      },
      "source": [
        "## naive  모델에서 최적의 윈도우 크기\n",
        "- 과거의 평균치로 예측하는 경우를 가정\n",
        "- Baseline 모델, 새로운 모델은 이것보다는 좋아야 하는 기준"
      ]
    },
    {
      "cell_type": "code",
      "execution_count": 60,
      "metadata": {
        "id": "2MkEfefMZrvj",
        "outputId": "ddd91692-a154-4621-87a0-9304331e3448",
        "colab": {
          "base_uri": "https://localhost:8080/"
        }
      },
      "outputs": [
        {
          "output_type": "stream",
          "name": "stdout",
          "text": [
            "1 0.9266\n",
            "2 0.9166\n",
            "3 0.9113\n",
            "4 0.9074\n",
            "5 0.9037\n",
            "6 0.901\n",
            "7 0.8991\n",
            "8 0.8982\n",
            "9 0.8971\n",
            "10 0.896\n",
            "11 0.8948\n",
            "12 0.8932\n",
            "13 0.8913\n",
            "14 0.8897\n",
            "15 0.888\n",
            "16 0.8861\n",
            "17 0.8841\n",
            "18 0.8812\n",
            "19 0.8778\n"
          ]
        }
      ],
      "source": [
        "for i in range(1,20): \n",
        "    n_steps=i\n",
        "#   x_train, y_train = split_seq(train, n_steps)\n",
        "    x_test, y_test = split_seq(test, n_steps)\n",
        "    y_pred = naive_model(x_test)\n",
        "    r2_score(y_test, y_pred)\n",
        "    print(n_steps, r2_score(y_test, y_pred).round(4))"
      ]
    },
    {
      "cell_type": "markdown",
      "metadata": {
        "id": "sD5FmVRp0YhK"
      },
      "source": [
        "# Prophet 사용"
      ]
    },
    {
      "cell_type": "code",
      "execution_count": 61,
      "metadata": {
        "collapsed": true,
        "id": "CMJzZPkeZrvj",
        "outputId": "06e2c6de-0c4a-4a76-e594-66ce4f76b6e9",
        "colab": {
          "base_uri": "https://localhost:8080/"
        }
      },
      "outputs": [
        {
          "output_type": "stream",
          "name": "stdout",
          "text": [
            "Looking in indexes: https://pypi.org/simple, https://us-python.pkg.dev/colab-wheels/public/simple/\n",
            "Requirement already satisfied: prophet in /usr/local/lib/python3.7/dist-packages (1.1.1)\n",
            "Requirement already satisfied: holidays>=0.14.2 in /usr/local/lib/python3.7/dist-packages (from prophet) (0.16)\n",
            "Requirement already satisfied: numpy>=1.15.4 in /usr/local/lib/python3.7/dist-packages (from prophet) (1.21.6)\n",
            "Requirement already satisfied: tqdm>=4.36.1 in /usr/local/lib/python3.7/dist-packages (from prophet) (4.64.1)\n",
            "Requirement already satisfied: wheel>=0.37.0 in /usr/local/lib/python3.7/dist-packages (from prophet) (0.37.1)\n",
            "Requirement already satisfied: matplotlib>=2.0.0 in /usr/local/lib/python3.7/dist-packages (from prophet) (3.2.2)\n",
            "Requirement already satisfied: convertdate>=2.1.2 in /usr/local/lib/python3.7/dist-packages (from prophet) (2.4.0)\n",
            "Collecting cmdstanpy>=1.0.4\n",
            "  Downloading cmdstanpy-1.0.7-py3-none-any.whl (80 kB)\n",
            "\u001b[K     |████████████████████████████████| 80 kB 3.9 MB/s \n",
            "\u001b[?25hRequirement already satisfied: pandas>=1.0.4 in /usr/local/lib/python3.7/dist-packages (from prophet) (1.3.5)\n",
            "Requirement already satisfied: setuptools-git>=1.2 in /usr/local/lib/python3.7/dist-packages (from prophet) (1.2)\n",
            "Requirement already satisfied: LunarCalendar>=0.0.9 in /usr/local/lib/python3.7/dist-packages (from prophet) (0.0.9)\n",
            "Requirement already satisfied: setuptools>=42 in /usr/local/lib/python3.7/dist-packages (from prophet) (57.4.0)\n",
            "Requirement already satisfied: python-dateutil>=2.8.0 in /usr/local/lib/python3.7/dist-packages (from prophet) (2.8.2)\n",
            "Requirement already satisfied: ujson in /usr/local/lib/python3.7/dist-packages (from cmdstanpy>=1.0.4->prophet) (5.5.0)\n",
            "Requirement already satisfied: pymeeus<=1,>=0.3.13 in /usr/local/lib/python3.7/dist-packages (from convertdate>=2.1.2->prophet) (0.5.11)\n",
            "Requirement already satisfied: hijri-converter in /usr/local/lib/python3.7/dist-packages (from holidays>=0.14.2->prophet) (2.2.4)\n",
            "Requirement already satisfied: korean-lunar-calendar in /usr/local/lib/python3.7/dist-packages (from holidays>=0.14.2->prophet) (0.3.1)\n",
            "Requirement already satisfied: pytz in /usr/local/lib/python3.7/dist-packages (from LunarCalendar>=0.0.9->prophet) (2022.4)\n",
            "Requirement already satisfied: ephem>=3.7.5.3 in /usr/local/lib/python3.7/dist-packages (from LunarCalendar>=0.0.9->prophet) (4.1.3)\n",
            "Requirement already satisfied: cycler>=0.10 in /usr/local/lib/python3.7/dist-packages (from matplotlib>=2.0.0->prophet) (0.11.0)\n",
            "Requirement already satisfied: pyparsing!=2.0.4,!=2.1.2,!=2.1.6,>=2.0.1 in /usr/local/lib/python3.7/dist-packages (from matplotlib>=2.0.0->prophet) (3.0.9)\n",
            "Requirement already satisfied: kiwisolver>=1.0.1 in /usr/local/lib/python3.7/dist-packages (from matplotlib>=2.0.0->prophet) (1.4.4)\n",
            "Requirement already satisfied: typing-extensions in /usr/local/lib/python3.7/dist-packages (from kiwisolver>=1.0.1->matplotlib>=2.0.0->prophet) (4.1.1)\n",
            "Requirement already satisfied: six>=1.5 in /usr/local/lib/python3.7/dist-packages (from python-dateutil>=2.8.0->prophet) (1.15.0)\n",
            "Installing collected packages: cmdstanpy\n",
            "  Attempting uninstall: cmdstanpy\n",
            "    Found existing installation: cmdstanpy 0.9.5\n",
            "    Uninstalling cmdstanpy-0.9.5:\n",
            "      Successfully uninstalled cmdstanpy-0.9.5\n",
            "Successfully installed cmdstanpy-1.0.7\n"
          ]
        }
      ],
      "source": [
        "!pip install prophet"
      ]
    },
    {
      "cell_type": "code",
      "execution_count": 62,
      "metadata": {
        "id": "IBrrk9t9t0RR"
      },
      "outputs": [],
      "source": [
        "from prophet import Prophet"
      ]
    },
    {
      "cell_type": "code",
      "execution_count": 63,
      "metadata": {
        "id": "fPEajlUOZrvj",
        "outputId": "40ac71fc-0f9a-46be-af94-cfc6499469e9",
        "colab": {
          "base_uri": "https://localhost:8080/",
          "height": 423
        }
      },
      "outputs": [
        {
          "output_type": "execute_result",
          "data": {
            "text/plain": [
              "             연월일    기온  품질  균질\n",
              "0       2006/1/1   3.6   8   1\n",
              "1       2006/1/2   4.0   8   1\n",
              "2       2006/1/3   3.7   8   1\n",
              "3       2006/1/4   4.0   8   1\n",
              "4       2006/1/5   3.6   8   1\n",
              "...          ...   ...  ..  ..\n",
              "4013  2016/12/27  11.1   8   2\n",
              "4014  2016/12/28   6.0   8   2\n",
              "4015  2016/12/29   4.3   8   2\n",
              "4016  2016/12/30   6.0   8   2\n",
              "4017  2016/12/31   6.3   8   2\n",
              "\n",
              "[4018 rows x 4 columns]"
            ],
            "text/html": [
              "\n",
              "  <div id=\"df-46c0bae2-aadf-468e-a891-55280cd73779\">\n",
              "    <div class=\"colab-df-container\">\n",
              "      <div>\n",
              "<style scoped>\n",
              "    .dataframe tbody tr th:only-of-type {\n",
              "        vertical-align: middle;\n",
              "    }\n",
              "\n",
              "    .dataframe tbody tr th {\n",
              "        vertical-align: top;\n",
              "    }\n",
              "\n",
              "    .dataframe thead th {\n",
              "        text-align: right;\n",
              "    }\n",
              "</style>\n",
              "<table border=\"1\" class=\"dataframe\">\n",
              "  <thead>\n",
              "    <tr style=\"text-align: right;\">\n",
              "      <th></th>\n",
              "      <th>연월일</th>\n",
              "      <th>기온</th>\n",
              "      <th>품질</th>\n",
              "      <th>균질</th>\n",
              "    </tr>\n",
              "  </thead>\n",
              "  <tbody>\n",
              "    <tr>\n",
              "      <th>0</th>\n",
              "      <td>2006/1/1</td>\n",
              "      <td>3.6</td>\n",
              "      <td>8</td>\n",
              "      <td>1</td>\n",
              "    </tr>\n",
              "    <tr>\n",
              "      <th>1</th>\n",
              "      <td>2006/1/2</td>\n",
              "      <td>4.0</td>\n",
              "      <td>8</td>\n",
              "      <td>1</td>\n",
              "    </tr>\n",
              "    <tr>\n",
              "      <th>2</th>\n",
              "      <td>2006/1/3</td>\n",
              "      <td>3.7</td>\n",
              "      <td>8</td>\n",
              "      <td>1</td>\n",
              "    </tr>\n",
              "    <tr>\n",
              "      <th>3</th>\n",
              "      <td>2006/1/4</td>\n",
              "      <td>4.0</td>\n",
              "      <td>8</td>\n",
              "      <td>1</td>\n",
              "    </tr>\n",
              "    <tr>\n",
              "      <th>4</th>\n",
              "      <td>2006/1/5</td>\n",
              "      <td>3.6</td>\n",
              "      <td>8</td>\n",
              "      <td>1</td>\n",
              "    </tr>\n",
              "    <tr>\n",
              "      <th>...</th>\n",
              "      <td>...</td>\n",
              "      <td>...</td>\n",
              "      <td>...</td>\n",
              "      <td>...</td>\n",
              "    </tr>\n",
              "    <tr>\n",
              "      <th>4013</th>\n",
              "      <td>2016/12/27</td>\n",
              "      <td>11.1</td>\n",
              "      <td>8</td>\n",
              "      <td>2</td>\n",
              "    </tr>\n",
              "    <tr>\n",
              "      <th>4014</th>\n",
              "      <td>2016/12/28</td>\n",
              "      <td>6.0</td>\n",
              "      <td>8</td>\n",
              "      <td>2</td>\n",
              "    </tr>\n",
              "    <tr>\n",
              "      <th>4015</th>\n",
              "      <td>2016/12/29</td>\n",
              "      <td>4.3</td>\n",
              "      <td>8</td>\n",
              "      <td>2</td>\n",
              "    </tr>\n",
              "    <tr>\n",
              "      <th>4016</th>\n",
              "      <td>2016/12/30</td>\n",
              "      <td>6.0</td>\n",
              "      <td>8</td>\n",
              "      <td>2</td>\n",
              "    </tr>\n",
              "    <tr>\n",
              "      <th>4017</th>\n",
              "      <td>2016/12/31</td>\n",
              "      <td>6.3</td>\n",
              "      <td>8</td>\n",
              "      <td>2</td>\n",
              "    </tr>\n",
              "  </tbody>\n",
              "</table>\n",
              "<p>4018 rows × 4 columns</p>\n",
              "</div>\n",
              "      <button class=\"colab-df-convert\" onclick=\"convertToInteractive('df-46c0bae2-aadf-468e-a891-55280cd73779')\"\n",
              "              title=\"Convert this dataframe to an interactive table.\"\n",
              "              style=\"display:none;\">\n",
              "        \n",
              "  <svg xmlns=\"http://www.w3.org/2000/svg\" height=\"24px\"viewBox=\"0 0 24 24\"\n",
              "       width=\"24px\">\n",
              "    <path d=\"M0 0h24v24H0V0z\" fill=\"none\"/>\n",
              "    <path d=\"M18.56 5.44l.94 2.06.94-2.06 2.06-.94-2.06-.94-.94-2.06-.94 2.06-2.06.94zm-11 1L8.5 8.5l.94-2.06 2.06-.94-2.06-.94L8.5 2.5l-.94 2.06-2.06.94zm10 10l.94 2.06.94-2.06 2.06-.94-2.06-.94-.94-2.06-.94 2.06-2.06.94z\"/><path d=\"M17.41 7.96l-1.37-1.37c-.4-.4-.92-.59-1.43-.59-.52 0-1.04.2-1.43.59L10.3 9.45l-7.72 7.72c-.78.78-.78 2.05 0 2.83L4 21.41c.39.39.9.59 1.41.59.51 0 1.02-.2 1.41-.59l7.78-7.78 2.81-2.81c.8-.78.8-2.07 0-2.86zM5.41 20L4 18.59l7.72-7.72 1.47 1.35L5.41 20z\"/>\n",
              "  </svg>\n",
              "      </button>\n",
              "      \n",
              "  <style>\n",
              "    .colab-df-container {\n",
              "      display:flex;\n",
              "      flex-wrap:wrap;\n",
              "      gap: 12px;\n",
              "    }\n",
              "\n",
              "    .colab-df-convert {\n",
              "      background-color: #E8F0FE;\n",
              "      border: none;\n",
              "      border-radius: 50%;\n",
              "      cursor: pointer;\n",
              "      display: none;\n",
              "      fill: #1967D2;\n",
              "      height: 32px;\n",
              "      padding: 0 0 0 0;\n",
              "      width: 32px;\n",
              "    }\n",
              "\n",
              "    .colab-df-convert:hover {\n",
              "      background-color: #E2EBFA;\n",
              "      box-shadow: 0px 1px 2px rgba(60, 64, 67, 0.3), 0px 1px 3px 1px rgba(60, 64, 67, 0.15);\n",
              "      fill: #174EA6;\n",
              "    }\n",
              "\n",
              "    [theme=dark] .colab-df-convert {\n",
              "      background-color: #3B4455;\n",
              "      fill: #D2E3FC;\n",
              "    }\n",
              "\n",
              "    [theme=dark] .colab-df-convert:hover {\n",
              "      background-color: #434B5C;\n",
              "      box-shadow: 0px 1px 3px 1px rgba(0, 0, 0, 0.15);\n",
              "      filter: drop-shadow(0px 1px 2px rgba(0, 0, 0, 0.3));\n",
              "      fill: #FFFFFF;\n",
              "    }\n",
              "  </style>\n",
              "\n",
              "      <script>\n",
              "        const buttonEl =\n",
              "          document.querySelector('#df-46c0bae2-aadf-468e-a891-55280cd73779 button.colab-df-convert');\n",
              "        buttonEl.style.display =\n",
              "          google.colab.kernel.accessAllowed ? 'block' : 'none';\n",
              "\n",
              "        async function convertToInteractive(key) {\n",
              "          const element = document.querySelector('#df-46c0bae2-aadf-468e-a891-55280cd73779');\n",
              "          const dataTable =\n",
              "            await google.colab.kernel.invokeFunction('convertToInteractive',\n",
              "                                                     [key], {});\n",
              "          if (!dataTable) return;\n",
              "\n",
              "          const docLinkHtml = 'Like what you see? Visit the ' +\n",
              "            '<a target=\"_blank\" href=https://colab.research.google.com/notebooks/data_table.ipynb>data table notebook</a>'\n",
              "            + ' to learn more about interactive tables.';\n",
              "          element.innerHTML = '';\n",
              "          dataTable['output_type'] = 'display_data';\n",
              "          await google.colab.output.renderOutput(dataTable, element);\n",
              "          const docLink = document.createElement('div');\n",
              "          docLink.innerHTML = docLinkHtml;\n",
              "          element.appendChild(docLink);\n",
              "        }\n",
              "      </script>\n",
              "    </div>\n",
              "  </div>\n",
              "  "
            ]
          },
          "metadata": {},
          "execution_count": 63
        }
      ],
      "source": [
        "df"
      ]
    },
    {
      "cell_type": "code",
      "execution_count": 64,
      "metadata": {
        "id": "Sw1tDiPmZrvj"
      },
      "outputs": [],
      "source": [
        "df = df.drop([\"품질\", \"균질\"], axis=1)"
      ]
    },
    {
      "cell_type": "code",
      "execution_count": 65,
      "metadata": {
        "id": "dR5pwmzot0RT",
        "outputId": "43b92dca-4641-4442-a41f-8c839fde4d07",
        "colab": {
          "base_uri": "https://localhost:8080/",
          "height": 423
        }
      },
      "outputs": [
        {
          "output_type": "execute_result",
          "data": {
            "text/plain": [
              "              ds     y\n",
              "0       2006/1/1   3.6\n",
              "1       2006/1/2   4.0\n",
              "2       2006/1/3   3.7\n",
              "3       2006/1/4   4.0\n",
              "4       2006/1/5   3.6\n",
              "...          ...   ...\n",
              "4013  2016/12/27  11.1\n",
              "4014  2016/12/28   6.0\n",
              "4015  2016/12/29   4.3\n",
              "4016  2016/12/30   6.0\n",
              "4017  2016/12/31   6.3\n",
              "\n",
              "[4018 rows x 2 columns]"
            ],
            "text/html": [
              "\n",
              "  <div id=\"df-81246512-2788-497a-a09e-d24f52397cfd\">\n",
              "    <div class=\"colab-df-container\">\n",
              "      <div>\n",
              "<style scoped>\n",
              "    .dataframe tbody tr th:only-of-type {\n",
              "        vertical-align: middle;\n",
              "    }\n",
              "\n",
              "    .dataframe tbody tr th {\n",
              "        vertical-align: top;\n",
              "    }\n",
              "\n",
              "    .dataframe thead th {\n",
              "        text-align: right;\n",
              "    }\n",
              "</style>\n",
              "<table border=\"1\" class=\"dataframe\">\n",
              "  <thead>\n",
              "    <tr style=\"text-align: right;\">\n",
              "      <th></th>\n",
              "      <th>ds</th>\n",
              "      <th>y</th>\n",
              "    </tr>\n",
              "  </thead>\n",
              "  <tbody>\n",
              "    <tr>\n",
              "      <th>0</th>\n",
              "      <td>2006/1/1</td>\n",
              "      <td>3.6</td>\n",
              "    </tr>\n",
              "    <tr>\n",
              "      <th>1</th>\n",
              "      <td>2006/1/2</td>\n",
              "      <td>4.0</td>\n",
              "    </tr>\n",
              "    <tr>\n",
              "      <th>2</th>\n",
              "      <td>2006/1/3</td>\n",
              "      <td>3.7</td>\n",
              "    </tr>\n",
              "    <tr>\n",
              "      <th>3</th>\n",
              "      <td>2006/1/4</td>\n",
              "      <td>4.0</td>\n",
              "    </tr>\n",
              "    <tr>\n",
              "      <th>4</th>\n",
              "      <td>2006/1/5</td>\n",
              "      <td>3.6</td>\n",
              "    </tr>\n",
              "    <tr>\n",
              "      <th>...</th>\n",
              "      <td>...</td>\n",
              "      <td>...</td>\n",
              "    </tr>\n",
              "    <tr>\n",
              "      <th>4013</th>\n",
              "      <td>2016/12/27</td>\n",
              "      <td>11.1</td>\n",
              "    </tr>\n",
              "    <tr>\n",
              "      <th>4014</th>\n",
              "      <td>2016/12/28</td>\n",
              "      <td>6.0</td>\n",
              "    </tr>\n",
              "    <tr>\n",
              "      <th>4015</th>\n",
              "      <td>2016/12/29</td>\n",
              "      <td>4.3</td>\n",
              "    </tr>\n",
              "    <tr>\n",
              "      <th>4016</th>\n",
              "      <td>2016/12/30</td>\n",
              "      <td>6.0</td>\n",
              "    </tr>\n",
              "    <tr>\n",
              "      <th>4017</th>\n",
              "      <td>2016/12/31</td>\n",
              "      <td>6.3</td>\n",
              "    </tr>\n",
              "  </tbody>\n",
              "</table>\n",
              "<p>4018 rows × 2 columns</p>\n",
              "</div>\n",
              "      <button class=\"colab-df-convert\" onclick=\"convertToInteractive('df-81246512-2788-497a-a09e-d24f52397cfd')\"\n",
              "              title=\"Convert this dataframe to an interactive table.\"\n",
              "              style=\"display:none;\">\n",
              "        \n",
              "  <svg xmlns=\"http://www.w3.org/2000/svg\" height=\"24px\"viewBox=\"0 0 24 24\"\n",
              "       width=\"24px\">\n",
              "    <path d=\"M0 0h24v24H0V0z\" fill=\"none\"/>\n",
              "    <path d=\"M18.56 5.44l.94 2.06.94-2.06 2.06-.94-2.06-.94-.94-2.06-.94 2.06-2.06.94zm-11 1L8.5 8.5l.94-2.06 2.06-.94-2.06-.94L8.5 2.5l-.94 2.06-2.06.94zm10 10l.94 2.06.94-2.06 2.06-.94-2.06-.94-.94-2.06-.94 2.06-2.06.94z\"/><path d=\"M17.41 7.96l-1.37-1.37c-.4-.4-.92-.59-1.43-.59-.52 0-1.04.2-1.43.59L10.3 9.45l-7.72 7.72c-.78.78-.78 2.05 0 2.83L4 21.41c.39.39.9.59 1.41.59.51 0 1.02-.2 1.41-.59l7.78-7.78 2.81-2.81c.8-.78.8-2.07 0-2.86zM5.41 20L4 18.59l7.72-7.72 1.47 1.35L5.41 20z\"/>\n",
              "  </svg>\n",
              "      </button>\n",
              "      \n",
              "  <style>\n",
              "    .colab-df-container {\n",
              "      display:flex;\n",
              "      flex-wrap:wrap;\n",
              "      gap: 12px;\n",
              "    }\n",
              "\n",
              "    .colab-df-convert {\n",
              "      background-color: #E8F0FE;\n",
              "      border: none;\n",
              "      border-radius: 50%;\n",
              "      cursor: pointer;\n",
              "      display: none;\n",
              "      fill: #1967D2;\n",
              "      height: 32px;\n",
              "      padding: 0 0 0 0;\n",
              "      width: 32px;\n",
              "    }\n",
              "\n",
              "    .colab-df-convert:hover {\n",
              "      background-color: #E2EBFA;\n",
              "      box-shadow: 0px 1px 2px rgba(60, 64, 67, 0.3), 0px 1px 3px 1px rgba(60, 64, 67, 0.15);\n",
              "      fill: #174EA6;\n",
              "    }\n",
              "\n",
              "    [theme=dark] .colab-df-convert {\n",
              "      background-color: #3B4455;\n",
              "      fill: #D2E3FC;\n",
              "    }\n",
              "\n",
              "    [theme=dark] .colab-df-convert:hover {\n",
              "      background-color: #434B5C;\n",
              "      box-shadow: 0px 1px 3px 1px rgba(0, 0, 0, 0.15);\n",
              "      filter: drop-shadow(0px 1px 2px rgba(0, 0, 0, 0.3));\n",
              "      fill: #FFFFFF;\n",
              "    }\n",
              "  </style>\n",
              "\n",
              "      <script>\n",
              "        const buttonEl =\n",
              "          document.querySelector('#df-81246512-2788-497a-a09e-d24f52397cfd button.colab-df-convert');\n",
              "        buttonEl.style.display =\n",
              "          google.colab.kernel.accessAllowed ? 'block' : 'none';\n",
              "\n",
              "        async function convertToInteractive(key) {\n",
              "          const element = document.querySelector('#df-81246512-2788-497a-a09e-d24f52397cfd');\n",
              "          const dataTable =\n",
              "            await google.colab.kernel.invokeFunction('convertToInteractive',\n",
              "                                                     [key], {});\n",
              "          if (!dataTable) return;\n",
              "\n",
              "          const docLinkHtml = 'Like what you see? Visit the ' +\n",
              "            '<a target=\"_blank\" href=https://colab.research.google.com/notebooks/data_table.ipynb>data table notebook</a>'\n",
              "            + ' to learn more about interactive tables.';\n",
              "          element.innerHTML = '';\n",
              "          dataTable['output_type'] = 'display_data';\n",
              "          await google.colab.output.renderOutput(dataTable, element);\n",
              "          const docLink = document.createElement('div');\n",
              "          docLink.innerHTML = docLinkHtml;\n",
              "          element.appendChild(docLink);\n",
              "        }\n",
              "      </script>\n",
              "    </div>\n",
              "  </div>\n",
              "  "
            ]
          },
          "metadata": {},
          "execution_count": 65
        }
      ],
      "source": [
        "df.columns = ['ds', 'y']\n",
        "df"
      ]
    },
    {
      "cell_type": "code",
      "execution_count": 66,
      "metadata": {
        "id": "_u-WOVJuZrvk",
        "outputId": "c4fca59e-750d-499d-8f6e-6d78ce89f0f8",
        "colab": {
          "base_uri": "https://localhost:8080/"
        }
      },
      "outputs": [
        {
          "output_type": "stream",
          "name": "stdout",
          "text": [
            "<class 'pandas.core.frame.DataFrame'>\n",
            "RangeIndex: 4018 entries, 0 to 4017\n",
            "Data columns (total 2 columns):\n",
            " #   Column  Non-Null Count  Dtype  \n",
            "---  ------  --------------  -----  \n",
            " 0   ds      4018 non-null   object \n",
            " 1   y       4018 non-null   float64\n",
            "dtypes: float64(1), object(1)\n",
            "memory usage: 62.9+ KB\n"
          ]
        }
      ],
      "source": [
        "df.info()"
      ]
    },
    {
      "cell_type": "code",
      "execution_count": null,
      "metadata": {
        "id": "aONNCAIgZrvk"
      },
      "outputs": [],
      "source": [
        "df.ds = df.ds.apply(pd.to_datetime)"
      ]
    },
    {
      "cell_type": "code",
      "execution_count": null,
      "metadata": {
        "id": "6gqWcCwsZrvk",
        "outputId": "e8b57c84-46d5-451c-964b-041bff5c743b"
      },
      "outputs": [
        {
          "data": {
            "text/plain": [
              "0      2006-01-01\n",
              "1      2006-01-02\n",
              "2      2006-01-03\n",
              "3      2006-01-04\n",
              "4      2006-01-05\n",
              "          ...    \n",
              "4013   2016-12-27\n",
              "4014   2016-12-28\n",
              "4015   2016-12-29\n",
              "4016   2016-12-30\n",
              "4017   2016-12-31\n",
              "Name: ds, Length: 4018, dtype: datetime64[ns]"
            ]
          },
          "execution_count": 52,
          "metadata": {},
          "output_type": "execute_result"
        }
      ],
      "source": [
        "df.ds"
      ]
    },
    {
      "cell_type": "code",
      "execution_count": null,
      "metadata": {
        "id": "5kBKCxmIZrvk",
        "outputId": "015a0ca9-a5c5-47d4-cba0-c3fc0b087e26"
      },
      "outputs": [
        {
          "name": "stdout",
          "output_type": "stream",
          "text": [
            "<class 'pandas.core.frame.DataFrame'>\n",
            "RangeIndex: 4018 entries, 0 to 4017\n",
            "Data columns (total 2 columns):\n",
            " #   Column  Non-Null Count  Dtype         \n",
            "---  ------  --------------  -----         \n",
            " 0   ds      4018 non-null   datetime64[ns]\n",
            " 1   y       4018 non-null   float64       \n",
            "dtypes: datetime64[ns](1), float64(1)\n",
            "memory usage: 62.9 KB\n"
          ]
        }
      ],
      "source": [
        "df.info()"
      ]
    },
    {
      "cell_type": "code",
      "execution_count": null,
      "metadata": {
        "id": "BXUVh0mIZrvk",
        "outputId": "0dc353a6-ed66-4efc-b8c4-701bff2b066e"
      },
      "outputs": [
        {
          "data": {
            "text/plain": [
              "((3500, 2), (518, 2))"
            ]
          },
          "execution_count": 54,
          "metadata": {},
          "output_type": "execute_result"
        }
      ],
      "source": [
        "train = df[:3500]\n",
        "test = df[3500:]\n",
        "train.shape, test.shape"
      ]
    },
    {
      "cell_type": "code",
      "execution_count": null,
      "metadata": {
        "id": "4NfcS2b8Zrvk",
        "outputId": "a7eab539-7fba-49b9-8107-b995949c1f9b"
      },
      "outputs": [
        {
          "name": "stderr",
          "output_type": "stream",
          "text": [
            "INFO:numexpr.utils:NumExpr defaulting to 8 threads.\n",
            "INFO:fbprophet:Disabling daily seasonality. Run prophet with daily_seasonality=True to override this.\n"
          ]
        },
        {
          "data": {
            "text/plain": [
              "<fbprophet.forecaster.Prophet at 0x1a1b8ee450>"
            ]
          },
          "execution_count": 55,
          "metadata": {},
          "output_type": "execute_result"
        }
      ],
      "source": [
        "model = Prophet()\n",
        "model.fit(train)"
      ]
    },
    {
      "cell_type": "code",
      "execution_count": null,
      "metadata": {
        "id": "o0JNi08jZrvk",
        "outputId": "a9574472-3a23-4f2b-ab50-3f64cf049573"
      },
      "outputs": [
        {
          "data": {
            "text/html": [
              "<div>\n",
              "<style scoped>\n",
              "    .dataframe tbody tr th:only-of-type {\n",
              "        vertical-align: middle;\n",
              "    }\n",
              "\n",
              "    .dataframe tbody tr th {\n",
              "        vertical-align: top;\n",
              "    }\n",
              "\n",
              "    .dataframe thead th {\n",
              "        text-align: right;\n",
              "    }\n",
              "</style>\n",
              "<table border=\"1\" class=\"dataframe\">\n",
              "  <thead>\n",
              "    <tr style=\"text-align: right;\">\n",
              "      <th></th>\n",
              "      <th>ds</th>\n",
              "    </tr>\n",
              "  </thead>\n",
              "  <tbody>\n",
              "    <tr>\n",
              "      <th>3500</th>\n",
              "      <td>2015-08-02</td>\n",
              "    </tr>\n",
              "    <tr>\n",
              "      <th>3501</th>\n",
              "      <td>2015-08-03</td>\n",
              "    </tr>\n",
              "    <tr>\n",
              "      <th>3502</th>\n",
              "      <td>2015-08-04</td>\n",
              "    </tr>\n",
              "    <tr>\n",
              "      <th>3503</th>\n",
              "      <td>2015-08-05</td>\n",
              "    </tr>\n",
              "    <tr>\n",
              "      <th>3504</th>\n",
              "      <td>2015-08-06</td>\n",
              "    </tr>\n",
              "    <tr>\n",
              "      <th>...</th>\n",
              "      <td>...</td>\n",
              "    </tr>\n",
              "    <tr>\n",
              "      <th>4013</th>\n",
              "      <td>2016-12-27</td>\n",
              "    </tr>\n",
              "    <tr>\n",
              "      <th>4014</th>\n",
              "      <td>2016-12-28</td>\n",
              "    </tr>\n",
              "    <tr>\n",
              "      <th>4015</th>\n",
              "      <td>2016-12-29</td>\n",
              "    </tr>\n",
              "    <tr>\n",
              "      <th>4016</th>\n",
              "      <td>2016-12-30</td>\n",
              "    </tr>\n",
              "    <tr>\n",
              "      <th>4017</th>\n",
              "      <td>2016-12-31</td>\n",
              "    </tr>\n",
              "  </tbody>\n",
              "</table>\n",
              "<p>518 rows × 1 columns</p>\n",
              "</div>"
            ],
            "text/plain": [
              "             ds\n",
              "3500 2015-08-02\n",
              "3501 2015-08-03\n",
              "3502 2015-08-04\n",
              "3503 2015-08-05\n",
              "3504 2015-08-06\n",
              "...         ...\n",
              "4013 2016-12-27\n",
              "4014 2016-12-28\n",
              "4015 2016-12-29\n",
              "4016 2016-12-30\n",
              "4017 2016-12-31\n",
              "\n",
              "[518 rows x 1 columns]"
            ]
          },
          "execution_count": 56,
          "metadata": {},
          "output_type": "execute_result"
        }
      ],
      "source": [
        "future_test = test.drop('y',axis=1);future_test"
      ]
    },
    {
      "cell_type": "code",
      "execution_count": null,
      "metadata": {
        "id": "zSk0zVKxZrvl"
      },
      "outputs": [],
      "source": [
        "forecast = model.predict(future_test)"
      ]
    },
    {
      "cell_type": "code",
      "execution_count": null,
      "metadata": {
        "id": "THXnDlc1Zrvl",
        "outputId": "6375618e-b496-4007-93d6-1db71fb36ee4"
      },
      "outputs": [
        {
          "data": {
            "text/html": [
              "<div>\n",
              "<style scoped>\n",
              "    .dataframe tbody tr th:only-of-type {\n",
              "        vertical-align: middle;\n",
              "    }\n",
              "\n",
              "    .dataframe tbody tr th {\n",
              "        vertical-align: top;\n",
              "    }\n",
              "\n",
              "    .dataframe thead th {\n",
              "        text-align: right;\n",
              "    }\n",
              "</style>\n",
              "<table border=\"1\" class=\"dataframe\">\n",
              "  <thead>\n",
              "    <tr style=\"text-align: right;\">\n",
              "      <th></th>\n",
              "      <th>ds</th>\n",
              "      <th>trend</th>\n",
              "      <th>yhat_lower</th>\n",
              "      <th>yhat_upper</th>\n",
              "      <th>trend_lower</th>\n",
              "      <th>trend_upper</th>\n",
              "      <th>additive_terms</th>\n",
              "      <th>additive_terms_lower</th>\n",
              "      <th>additive_terms_upper</th>\n",
              "      <th>weekly</th>\n",
              "      <th>weekly_lower</th>\n",
              "      <th>weekly_upper</th>\n",
              "      <th>yearly</th>\n",
              "      <th>yearly_lower</th>\n",
              "      <th>yearly_upper</th>\n",
              "      <th>multiplicative_terms</th>\n",
              "      <th>multiplicative_terms_lower</th>\n",
              "      <th>multiplicative_terms_upper</th>\n",
              "      <th>yhat</th>\n",
              "    </tr>\n",
              "  </thead>\n",
              "  <tbody>\n",
              "    <tr>\n",
              "      <th>0</th>\n",
              "      <td>2015-08-02</td>\n",
              "      <td>16.561539</td>\n",
              "      <td>24.975832</td>\n",
              "      <td>31.327417</td>\n",
              "      <td>16.561539</td>\n",
              "      <td>16.561539</td>\n",
              "      <td>11.497560</td>\n",
              "      <td>11.497560</td>\n",
              "      <td>11.497560</td>\n",
              "      <td>-0.108869</td>\n",
              "      <td>-0.108869</td>\n",
              "      <td>-0.108869</td>\n",
              "      <td>11.606428</td>\n",
              "      <td>11.606428</td>\n",
              "      <td>11.606428</td>\n",
              "      <td>0.0</td>\n",
              "      <td>0.0</td>\n",
              "      <td>0.0</td>\n",
              "      <td>28.059099</td>\n",
              "    </tr>\n",
              "    <tr>\n",
              "      <th>1</th>\n",
              "      <td>2015-08-03</td>\n",
              "      <td>16.560982</td>\n",
              "      <td>24.851076</td>\n",
              "      <td>31.263351</td>\n",
              "      <td>16.560982</td>\n",
              "      <td>16.560982</td>\n",
              "      <td>11.620111</td>\n",
              "      <td>11.620111</td>\n",
              "      <td>11.620111</td>\n",
              "      <td>-0.059070</td>\n",
              "      <td>-0.059070</td>\n",
              "      <td>-0.059070</td>\n",
              "      <td>11.679181</td>\n",
              "      <td>11.679181</td>\n",
              "      <td>11.679181</td>\n",
              "      <td>0.0</td>\n",
              "      <td>0.0</td>\n",
              "      <td>0.0</td>\n",
              "      <td>28.181093</td>\n",
              "    </tr>\n",
              "    <tr>\n",
              "      <th>2</th>\n",
              "      <td>2015-08-04</td>\n",
              "      <td>16.560424</td>\n",
              "      <td>25.428946</td>\n",
              "      <td>31.410397</td>\n",
              "      <td>16.560424</td>\n",
              "      <td>16.560424</td>\n",
              "      <td>11.800380</td>\n",
              "      <td>11.800380</td>\n",
              "      <td>11.800380</td>\n",
              "      <td>0.057071</td>\n",
              "      <td>0.057071</td>\n",
              "      <td>0.057071</td>\n",
              "      <td>11.743308</td>\n",
              "      <td>11.743308</td>\n",
              "      <td>11.743308</td>\n",
              "      <td>0.0</td>\n",
              "      <td>0.0</td>\n",
              "      <td>0.0</td>\n",
              "      <td>28.360803</td>\n",
              "    </tr>\n",
              "    <tr>\n",
              "      <th>3</th>\n",
              "      <td>2015-08-05</td>\n",
              "      <td>16.559866</td>\n",
              "      <td>25.376897</td>\n",
              "      <td>31.501595</td>\n",
              "      <td>16.559866</td>\n",
              "      <td>16.559866</td>\n",
              "      <td>11.826961</td>\n",
              "      <td>11.826961</td>\n",
              "      <td>11.826961</td>\n",
              "      <td>0.028758</td>\n",
              "      <td>0.028758</td>\n",
              "      <td>0.028758</td>\n",
              "      <td>11.798203</td>\n",
              "      <td>11.798203</td>\n",
              "      <td>11.798203</td>\n",
              "      <td>0.0</td>\n",
              "      <td>0.0</td>\n",
              "      <td>0.0</td>\n",
              "      <td>28.386827</td>\n",
              "    </tr>\n",
              "    <tr>\n",
              "      <th>4</th>\n",
              "      <td>2015-08-06</td>\n",
              "      <td>16.559309</td>\n",
              "      <td>25.617295</td>\n",
              "      <td>31.665928</td>\n",
              "      <td>16.559309</td>\n",
              "      <td>16.559309</td>\n",
              "      <td>11.862754</td>\n",
              "      <td>11.862754</td>\n",
              "      <td>11.862754</td>\n",
              "      <td>0.019394</td>\n",
              "      <td>0.019394</td>\n",
              "      <td>0.019394</td>\n",
              "      <td>11.843360</td>\n",
              "      <td>11.843360</td>\n",
              "      <td>11.843360</td>\n",
              "      <td>0.0</td>\n",
              "      <td>0.0</td>\n",
              "      <td>0.0</td>\n",
              "      <td>28.422063</td>\n",
              "    </tr>\n",
              "    <tr>\n",
              "      <th>...</th>\n",
              "      <td>...</td>\n",
              "      <td>...</td>\n",
              "      <td>...</td>\n",
              "      <td>...</td>\n",
              "      <td>...</td>\n",
              "      <td>...</td>\n",
              "      <td>...</td>\n",
              "      <td>...</td>\n",
              "      <td>...</td>\n",
              "      <td>...</td>\n",
              "      <td>...</td>\n",
              "      <td>...</td>\n",
              "      <td>...</td>\n",
              "      <td>...</td>\n",
              "      <td>...</td>\n",
              "      <td>...</td>\n",
              "      <td>...</td>\n",
              "      <td>...</td>\n",
              "      <td>...</td>\n",
              "    </tr>\n",
              "    <tr>\n",
              "      <th>513</th>\n",
              "      <td>2016-12-27</td>\n",
              "      <td>16.275466</td>\n",
              "      <td>3.532455</td>\n",
              "      <td>9.784328</td>\n",
              "      <td>16.136451</td>\n",
              "      <td>16.439436</td>\n",
              "      <td>-9.730293</td>\n",
              "      <td>-9.730293</td>\n",
              "      <td>-9.730293</td>\n",
              "      <td>0.057071</td>\n",
              "      <td>0.057071</td>\n",
              "      <td>0.057071</td>\n",
              "      <td>-9.787365</td>\n",
              "      <td>-9.787365</td>\n",
              "      <td>-9.787365</td>\n",
              "      <td>0.0</td>\n",
              "      <td>0.0</td>\n",
              "      <td>0.0</td>\n",
              "      <td>6.545173</td>\n",
              "    </tr>\n",
              "    <tr>\n",
              "      <th>514</th>\n",
              "      <td>2016-12-28</td>\n",
              "      <td>16.274909</td>\n",
              "      <td>3.357342</td>\n",
              "      <td>9.303235</td>\n",
              "      <td>16.135398</td>\n",
              "      <td>16.439195</td>\n",
              "      <td>-9.873599</td>\n",
              "      <td>-9.873599</td>\n",
              "      <td>-9.873599</td>\n",
              "      <td>0.028758</td>\n",
              "      <td>0.028758</td>\n",
              "      <td>0.028758</td>\n",
              "      <td>-9.902357</td>\n",
              "      <td>-9.902357</td>\n",
              "      <td>-9.902357</td>\n",
              "      <td>0.0</td>\n",
              "      <td>0.0</td>\n",
              "      <td>0.0</td>\n",
              "      <td>6.401309</td>\n",
              "    </tr>\n",
              "    <tr>\n",
              "      <th>515</th>\n",
              "      <td>2016-12-29</td>\n",
              "      <td>16.274351</td>\n",
              "      <td>3.345148</td>\n",
              "      <td>9.398358</td>\n",
              "      <td>16.134345</td>\n",
              "      <td>16.438955</td>\n",
              "      <td>-9.992802</td>\n",
              "      <td>-9.992802</td>\n",
              "      <td>-9.992802</td>\n",
              "      <td>0.019394</td>\n",
              "      <td>0.019394</td>\n",
              "      <td>0.019394</td>\n",
              "      <td>-10.012196</td>\n",
              "      <td>-10.012196</td>\n",
              "      <td>-10.012196</td>\n",
              "      <td>0.0</td>\n",
              "      <td>0.0</td>\n",
              "      <td>0.0</td>\n",
              "      <td>6.281549</td>\n",
              "    </tr>\n",
              "    <tr>\n",
              "      <th>516</th>\n",
              "      <td>2016-12-30</td>\n",
              "      <td>16.273793</td>\n",
              "      <td>3.335084</td>\n",
              "      <td>9.204753</td>\n",
              "      <td>16.133292</td>\n",
              "      <td>16.438714</td>\n",
              "      <td>-10.031572</td>\n",
              "      <td>-10.031572</td>\n",
              "      <td>-10.031572</td>\n",
              "      <td>0.084984</td>\n",
              "      <td>0.084984</td>\n",
              "      <td>0.084984</td>\n",
              "      <td>-10.116555</td>\n",
              "      <td>-10.116555</td>\n",
              "      <td>-10.116555</td>\n",
              "      <td>0.0</td>\n",
              "      <td>0.0</td>\n",
              "      <td>0.0</td>\n",
              "      <td>6.242222</td>\n",
              "    </tr>\n",
              "    <tr>\n",
              "      <th>517</th>\n",
              "      <td>2016-12-31</td>\n",
              "      <td>16.273236</td>\n",
              "      <td>3.251400</td>\n",
              "      <td>9.106567</td>\n",
              "      <td>16.132239</td>\n",
              "      <td>16.438473</td>\n",
              "      <td>-10.237394</td>\n",
              "      <td>-10.237394</td>\n",
              "      <td>-10.237394</td>\n",
              "      <td>-0.022268</td>\n",
              "      <td>-0.022268</td>\n",
              "      <td>-0.022268</td>\n",
              "      <td>-10.215126</td>\n",
              "      <td>-10.215126</td>\n",
              "      <td>-10.215126</td>\n",
              "      <td>0.0</td>\n",
              "      <td>0.0</td>\n",
              "      <td>0.0</td>\n",
              "      <td>6.035842</td>\n",
              "    </tr>\n",
              "  </tbody>\n",
              "</table>\n",
              "<p>518 rows × 19 columns</p>\n",
              "</div>"
            ],
            "text/plain": [
              "            ds      trend  yhat_lower  yhat_upper  trend_lower  trend_upper  \\\n",
              "0   2015-08-02  16.561539   24.975832   31.327417    16.561539    16.561539   \n",
              "1   2015-08-03  16.560982   24.851076   31.263351    16.560982    16.560982   \n",
              "2   2015-08-04  16.560424   25.428946   31.410397    16.560424    16.560424   \n",
              "3   2015-08-05  16.559866   25.376897   31.501595    16.559866    16.559866   \n",
              "4   2015-08-06  16.559309   25.617295   31.665928    16.559309    16.559309   \n",
              "..         ...        ...         ...         ...          ...          ...   \n",
              "513 2016-12-27  16.275466    3.532455    9.784328    16.136451    16.439436   \n",
              "514 2016-12-28  16.274909    3.357342    9.303235    16.135398    16.439195   \n",
              "515 2016-12-29  16.274351    3.345148    9.398358    16.134345    16.438955   \n",
              "516 2016-12-30  16.273793    3.335084    9.204753    16.133292    16.438714   \n",
              "517 2016-12-31  16.273236    3.251400    9.106567    16.132239    16.438473   \n",
              "\n",
              "     additive_terms  additive_terms_lower  additive_terms_upper    weekly  \\\n",
              "0         11.497560             11.497560             11.497560 -0.108869   \n",
              "1         11.620111             11.620111             11.620111 -0.059070   \n",
              "2         11.800380             11.800380             11.800380  0.057071   \n",
              "3         11.826961             11.826961             11.826961  0.028758   \n",
              "4         11.862754             11.862754             11.862754  0.019394   \n",
              "..              ...                   ...                   ...       ...   \n",
              "513       -9.730293             -9.730293             -9.730293  0.057071   \n",
              "514       -9.873599             -9.873599             -9.873599  0.028758   \n",
              "515       -9.992802             -9.992802             -9.992802  0.019394   \n",
              "516      -10.031572            -10.031572            -10.031572  0.084984   \n",
              "517      -10.237394            -10.237394            -10.237394 -0.022268   \n",
              "\n",
              "     weekly_lower  weekly_upper     yearly  yearly_lower  yearly_upper  \\\n",
              "0       -0.108869     -0.108869  11.606428     11.606428     11.606428   \n",
              "1       -0.059070     -0.059070  11.679181     11.679181     11.679181   \n",
              "2        0.057071      0.057071  11.743308     11.743308     11.743308   \n",
              "3        0.028758      0.028758  11.798203     11.798203     11.798203   \n",
              "4        0.019394      0.019394  11.843360     11.843360     11.843360   \n",
              "..            ...           ...        ...           ...           ...   \n",
              "513      0.057071      0.057071  -9.787365     -9.787365     -9.787365   \n",
              "514      0.028758      0.028758  -9.902357     -9.902357     -9.902357   \n",
              "515      0.019394      0.019394 -10.012196    -10.012196    -10.012196   \n",
              "516      0.084984      0.084984 -10.116555    -10.116555    -10.116555   \n",
              "517     -0.022268     -0.022268 -10.215126    -10.215126    -10.215126   \n",
              "\n",
              "     multiplicative_terms  multiplicative_terms_lower  \\\n",
              "0                     0.0                         0.0   \n",
              "1                     0.0                         0.0   \n",
              "2                     0.0                         0.0   \n",
              "3                     0.0                         0.0   \n",
              "4                     0.0                         0.0   \n",
              "..                    ...                         ...   \n",
              "513                   0.0                         0.0   \n",
              "514                   0.0                         0.0   \n",
              "515                   0.0                         0.0   \n",
              "516                   0.0                         0.0   \n",
              "517                   0.0                         0.0   \n",
              "\n",
              "     multiplicative_terms_upper       yhat  \n",
              "0                           0.0  28.059099  \n",
              "1                           0.0  28.181093  \n",
              "2                           0.0  28.360803  \n",
              "3                           0.0  28.386827  \n",
              "4                           0.0  28.422063  \n",
              "..                          ...        ...  \n",
              "513                         0.0   6.545173  \n",
              "514                         0.0   6.401309  \n",
              "515                         0.0   6.281549  \n",
              "516                         0.0   6.242222  \n",
              "517                         0.0   6.035842  \n",
              "\n",
              "[518 rows x 19 columns]"
            ]
          },
          "execution_count": 58,
          "metadata": {},
          "output_type": "execute_result"
        }
      ],
      "source": [
        "forecast"
      ]
    },
    {
      "cell_type": "code",
      "execution_count": null,
      "metadata": {
        "scrolled": false,
        "id": "qw_QbZaHZrvl",
        "outputId": "18439c63-a4fb-492b-af0d-eb82d8b23793"
      },
      "outputs": [
        {
          "data": {
            "image/png": "[encoded data removed]",
            "text/plain": [
              "<Figure size 720x432 with 1 Axes>"
            ]
          },
          "metadata": {
            "image/png": {
              "height": 423,
              "width": 733
            }
          },
          "output_type": "display_data"
        }
      ],
      "source": [
        "model.plot(forecast)\n",
        "from datetime import datetime\n",
        "plt.xlim([datetime(2015, 1, 1), datetime(2015, 12, 1)])\n",
        "plt.show()"
      ]
    },
    {
      "cell_type": "code",
      "execution_count": null,
      "metadata": {
        "id": "UJgOOOpZZrvl",
        "outputId": "0c4dfa9a-a7ed-4532-fb19-b749b4c435e8"
      },
      "outputs": [
        {
          "data": {
            "text/plain": [
              "(518,)"
            ]
          },
          "execution_count": 61,
          "metadata": {},
          "output_type": "execute_result"
        }
      ],
      "source": [
        "y_pred = forecast['yhat'].values\n",
        "y_pred.shape"
      ]
    },
    {
      "cell_type": "code",
      "execution_count": null,
      "metadata": {
        "id": "kO4bJWHXZrvl",
        "outputId": "826cbd93-aa50-4864-8ddb-63529d646145"
      },
      "outputs": [
        {
          "data": {
            "text/plain": [
              "(518,)"
            ]
          },
          "execution_count": 62,
          "metadata": {},
          "output_type": "execute_result"
        }
      ],
      "source": [
        "y_test = test.y.values\n",
        "y_test.shape"
      ]
    },
    {
      "cell_type": "code",
      "execution_count": null,
      "metadata": {
        "id": "HysrB0iKZrvl",
        "outputId": "e44b22a1-8b34-4d35-d457-2377e8d0d993"
      },
      "outputs": [
        {
          "data": {
            "text/plain": [
              "0.8877830476016834"
            ]
          },
          "execution_count": 63,
          "metadata": {},
          "output_type": "execute_result"
        }
      ],
      "source": [
        "r2_score(y_test, y_pred)"
      ]
    },
    {
      "cell_type": "markdown",
      "metadata": {
        "id": "BrD2iLVlZrvl"
      },
      "source": [
        "# 라이브러리"
      ]
    },
    {
      "cell_type": "code",
      "execution_count": null,
      "metadata": {
        "id": "tn3BNvGhZrvm"
      },
      "outputs": [],
      "source": [
        "cut = np.int((len(ys)*0.7))\n",
        "train = ys[:cut]\n",
        "test = ys[cut:]\n",
        "ys.shape, train.shape, test.shape, cut"
      ]
    },
    {
      "cell_type": "code",
      "execution_count": null,
      "metadata": {
        "id": "8zuZ3XHCZrvm"
      },
      "outputs": [],
      "source": [
        "def split_seq_2(sequence, n_steps_in, n_steps_out=1):\n",
        "  x, y = [],[]\n",
        "  for i in range(len(sequence)):\n",
        "    end_ix = i + n_steps_in\n",
        "    out_end_ix = end_ix + n_steps_out\n",
        "    if out_end_ix > len(sequence):\n",
        "        break\n",
        "    seq_x, seq_y = sequence[i:end_ix], sequence[out_end_ix-1]\n",
        "    x.append(seq_x)\n",
        "    y.append(seq_y)\n",
        "  return np.array(x), np.array(y)"
      ]
    },
    {
      "cell_type": "code",
      "execution_count": null,
      "metadata": {
        "id": "qcoG3VGrZrvm"
      },
      "outputs": [],
      "source": [
        "# 실제값과 예측치 비교\n",
        "def plot_y_pred(y_test, y_pred):\n",
        "    plt.figure(figsize=(8, 5))\n",
        "    plt.plot(y_test, c='r')\n",
        "    plt.plot(y_pred, c='b')\n",
        "    plt.show()\n",
        "    print(\"R2=\", r2_score(y_test, y_pred).round(3))\n",
        "    error = abs(y_test - y_pred)\n",
        "    print(\"MAE=\", error.mean().round(3))\n",
        "    print(\"rmse=\", np.sqrt((error**2).mean()).round(3))\n",
        "    print(\"max=\", max(error).round(3))"
      ]
    },
    {
      "cell_type": "code",
      "execution_count": null,
      "metadata": {
        "id": "q-iIa7w1Zrvm"
      },
      "outputs": [],
      "source": [
        "def scatter_errors(y_test, y_pred):\n",
        "    error = abs(y_test - y_pred)\n",
        "    plt.scatter(y_test, error, s=2)"
      ]
    },
    {
      "cell_type": "code",
      "execution_count": null,
      "metadata": {
        "id": "gtoaCD7yZrvm"
      },
      "outputs": [],
      "source": [
        "lr = LinearRegression()\n",
        "n_steps_in = 3\n",
        "n_futures = range(10)\n",
        "for n_steps_out in n_futures:\n",
        "  x_train, y_train = split_seq_2(train, n_steps_in, n_steps_out)\n",
        "  x_test, y_test = split_seq_2(test, n_steps_in, n_steps_out)\n",
        "  lr.fit(x_train, y_train) \n",
        "  print(n_steps_out, ',', lr.score(x_test, y_test).round(3))"
      ]
    }
  ],
  "metadata": {
    "colab": {
      "collapsed_sections": [],
      "provenance": [],
      "include_colab_link": true
    },
    "kernelspec": {
      "display_name": "Python 3",
      "language": "python",
      "name": "python3"
    },
    "language_info": {
      "codemirror_mode": {
        "name": "ipython",
        "version": 3
      },
      "file_extension": ".py",
      "mimetype": "text/x-python",
      "name": "python",
      "nbconvert_exporter": "python",
      "pygments_lexer": "ipython3",
      "version": "3.7.6"
    },
    "toc": {
      "base_numbering": 1,
      "nav_menu": {},
      "number_sections": true,
      "sideBar": true,
      "skip_h1_title": false,
      "title_cell": "Table of Contents",
      "title_sidebar": "Contents",
      "toc_cell": false,
      "toc_position": {},
      "toc_section_display": true,
      "toc_window_display": false
    }
  },
  "nbformat": 4,
  "nbformat_minor": 0
}